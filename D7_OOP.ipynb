{
 "cells": [
  {
   "cell_type": "markdown",
   "metadata": {},
   "source": [
    "## OOP"
   ]
  },
  {
   "cell_type": "markdown",
   "metadata": {},
   "source": [
    "##### Class"
   ]
  },
  {
   "cell_type": "code",
   "execution_count": null,
   "metadata": {},
   "outputs": [],
   "source": [
    "l = list()  # creating object 'l' of class list\n",
    "l = [1,2,3] \n",
    "\n"
   ]
  },
  {
   "cell_type": "markdown",
   "metadata": {},
   "source": [
    "##### Object"
   ]
  },
  {
   "cell_type": "code",
   "execution_count": 1,
   "metadata": {},
   "outputs": [
    {
     "name": "stdout",
     "output_type": "stream",
     "text": [
      "d\n"
     ]
    }
   ],
   "source": [
    "class Calculator:\n",
    "    def __init__(self, num1, num2):\n",
    "        self.num1 = num1\n",
    "        self.num2 = num2\n",
    "        self.menu()\n",
    "    \n",
    "    def menu(self):\n",
    "        userInput = ''' \n",
    "            Select Operation:\n",
    "            1. Addition\n",
    "            2. Subtraction\n",
    "            3. Multiplication\n",
    "            4. Division\n",
    "            5. Exit\n",
    "        '''\n",
    "        if userInput == 1:\n",
    "            print('Addition : ', self.num1 + self.num2)\n",
    "        elif userInput == 2:\n",
    "            pass\n",
    "        else:\n",
    "            exit()\n",
    "            \n",
    "# num1 = 10\n",
    "# num2 = 8\n",
    "# cal = Calculator(num1, num2)\n",
    "\n",
    "print('d')"
   ]
  },
  {
   "cell_type": "markdown",
   "metadata": {},
   "source": [
    "## OOP Project"
   ]
  },
  {
   "cell_type": "code",
   "execution_count": 4,
   "metadata": {},
   "outputs": [],
   "source": [
    "# Write the OOP classes to handle the following scenarios:\n",
    "    # A user can create and view 2D coordinates\n",
    "    # A user can find out the  distance between 2 coordinates\n",
    "    # A user can find the distance of a coordinate from the origin\n",
    "    # A user can check if a point lies on a given line\n",
    "    # A user can find the distance between a given 2D point and a given line"
   ]
  },
  {
   "cell_type": "code",
   "execution_count": 21,
   "metadata": {},
   "outputs": [
    {
     "name": "stdout",
     "output_type": "stream",
     "text": [
      "<0, 0>\n",
      "<1, 1>\n",
      "3x + 5y + 8 = 0\n"
     ]
    }
   ],
   "source": [
    "class Point:\n",
    "    def __init__(self, x, y):\n",
    "        self.x_cod = x\n",
    "        self.y_cod = y\n",
    "    \n",
    "    def __str__(self):\n",
    "        return '<{}, {}>'.format(self.x_cod, self.y_cod)\n",
    "    \n",
    "    def euclidean_distance(self, other):  #  self and other -->  (x1, y1) and (x2, y2)\n",
    "        # distance between both = √(x2-x1)² + (y2-y2)²\n",
    "        return ((self.x_cod - other.x_cod)**2 + (self.y_cod - other.y_cod)**2)**0.5\n",
    "    \n",
    "    def distance_from_origin(self):\n",
    "        # return (self.x_cod**2 + self.y_cod**2)**0.5\n",
    "        # Second way : \n",
    "        return self.euclidean_distance(Point(0, 0))\n",
    "    \n",
    "class Line:\n",
    "    def __init__(self, A, B, C):\n",
    "        self.A = A\n",
    "        self.B = B\n",
    "        self.C = C\n",
    "    \n",
    "    def __str__(self):\n",
    "        return '{}x + {}y + {} = 0'.format(self.A, self.B, self.C)\n",
    "        \n",
    "\n",
    "p1 = Point(0, 0)\n",
    "print(p1)\n",
    "p2 = Point(1, 1)\n",
    "print(p2)\n",
    "\n",
    "p1.euclidean_distance(p2)\n",
    "\n",
    "p1.distance_from_origin()\n",
    "p2.distance_from_origin()\n",
    "\n",
    "\n",
    "\n",
    "l1 = Line(3, 5, 8)\n",
    "print(l1)\n"
   ]
  },
  {
   "cell_type": "code",
   "execution_count": 10,
   "metadata": {},
   "outputs": [
    {
     "name": "stdout",
     "output_type": "stream",
     "text": [
      "<0, 0>\n"
     ]
    }
   ],
   "source": []
  },
  {
   "cell_type": "code",
   "execution_count": null,
   "metadata": {},
   "outputs": [],
   "source": []
  }
 ],
 "metadata": {
  "kernelspec": {
   "display_name": "base",
   "language": "python",
   "name": "python3"
  },
  "language_info": {
   "codemirror_mode": {
    "name": "ipython",
    "version": 3
   },
   "file_extension": ".py",
   "mimetype": "text/x-python",
   "name": "python",
   "nbconvert_exporter": "python",
   "pygments_lexer": "ipython3",
   "version": "3.11.5"
  }
 },
 "nbformat": 4,
 "nbformat_minor": 2
}
