{
 "cells": [
  {
   "cell_type": "markdown",
   "metadata": {},
   "source": [
    "## Some Important Series Methods"
   ]
  },
  {
   "cell_type": "code",
   "execution_count": 1,
   "metadata": {},
   "outputs": [],
   "source": [
    "# astype\n",
    "# between\n",
    "# clip\n",
    "# drop_duplicates\n",
    "# isnull\n",
    "# dropna\n",
    "# fillna\n",
    "# isin\n",
    "# apply\n",
    "# copy"
   ]
  },
  {
   "cell_type": "code",
   "execution_count": 2,
   "metadata": {},
   "outputs": [],
   "source": [
    "import numpy as np\n",
    "import pandas as pd"
   ]
  },
  {
   "cell_type": "code",
   "execution_count": 3,
   "metadata": {},
   "outputs": [
    {
     "data": {
      "text/plain": [
       "0       48\n",
       "1       57\n",
       "2       40\n",
       "3       43\n",
       "4       44\n",
       "      ... \n",
       "360    231\n",
       "361    226\n",
       "362    155\n",
       "363    144\n",
       "364    172\n",
       "Name: Subscribers gained, Length: 365, dtype: int64"
      ]
     },
     "execution_count": 3,
     "metadata": {},
     "output_type": "execute_result"
    }
   ],
   "source": [
    "subs_series = pd.read_csv('Datasets\\datasets-session-16\\subs.csv') # this gives dataframe, not series\n",
    "subs = subs_series['Subscribers gained']\n",
    "type(subs)\n",
    "subs"
   ]
  },
  {
   "cell_type": "code",
   "execution_count": 4,
   "metadata": {},
   "outputs": [
    {
     "data": {
      "text/plain": [
       "match_no\n",
       "1       1\n",
       "2      23\n",
       "3      13\n",
       "4      12\n",
       "5       1\n",
       "       ..\n",
       "211     0\n",
       "212    20\n",
       "213    73\n",
       "214    25\n",
       "215     7\n",
       "Length: 215, dtype: int64"
      ]
     },
     "execution_count": 4,
     "metadata": {},
     "output_type": "execute_result"
    }
   ],
   "source": [
    "vk_series = pd.read_csv('Datasets/datasets-session-16/kohli_ipl.csv')\n",
    "vk = pd.Series(vk_series['runs'].values, index=vk_series['match_no'])\n",
    "type(vk)\n",
    "vk"
   ]
  },
  {
   "cell_type": "code",
   "execution_count": 5,
   "metadata": {},
   "outputs": [
    {
     "data": {
      "text/plain": [
       "movie\n",
       "Uri: The Surgical Strike                   Vicky Kaushal\n",
       "Battalion 609                                Vicky Ahuja\n",
       "The Accidental Prime Minister (film)         Anupam Kher\n",
       "Why Cheat India                            Emraan Hashmi\n",
       "Evening Shadows                         Mona Ambegaonkar\n",
       "                                              ...       \n",
       "Hum Tumhare Hain Sanam                    Shah Rukh Khan\n",
       "Aankhen (2002 film)                     Amitabh Bachchan\n",
       "Saathiya (film)                             Vivek Oberoi\n",
       "Company (film)                                Ajay Devgn\n",
       "Awara Paagal Deewana                        Akshay Kumar\n",
       "Length: 1500, dtype: object"
      ]
     },
     "execution_count": 5,
     "metadata": {},
     "output_type": "execute_result"
    }
   ],
   "source": [
    "movie_series = pd.read_csv('Datasets/datasets-session-16/bollywood.csv')\n",
    "bw = pd.Series(movie_series['lead'].values, index=movie_series['movie'])\n",
    "type(bw)\n",
    "bw"
   ]
  },
  {
   "cell_type": "code",
   "execution_count": 8,
   "metadata": {},
   "outputs": [
    {
     "name": "stdout",
     "output_type": "stream",
     "text": [
      "3472\n"
     ]
    },
    {
     "data": {
      "text/plain": [
       "2182"
      ]
     },
     "execution_count": 8,
     "metadata": {},
     "output_type": "execute_result"
    }
   ],
   "source": [
    "# astype\n",
    "import sys\n",
    "print(sys.getsizeof(vk))\n",
    "\n",
    "sys.getsizeof(vk.astype('int16'))"
   ]
  },
  {
   "cell_type": "code",
   "execution_count": 9,
   "metadata": {},
   "outputs": [
    {
     "data": {
      "text/plain": [
       "43"
      ]
     },
     "execution_count": 9,
     "metadata": {},
     "output_type": "execute_result"
    }
   ],
   "source": [
    "# between\n",
    "vk.between(51,99)\n",
    "vk[vk.between(51,99)]\n",
    "vk[vk.between(51,99)].size"
   ]
  },
  {
   "cell_type": "code",
   "execution_count": 10,
   "metadata": {},
   "outputs": [
    {
     "data": {
      "text/plain": [
       "0      100\n",
       "1      100\n",
       "2      100\n",
       "3      100\n",
       "4      100\n",
       "      ... \n",
       "360    200\n",
       "361    200\n",
       "362    155\n",
       "363    144\n",
       "364    172\n",
       "Name: Subscribers gained, Length: 365, dtype: int64"
      ]
     },
     "execution_count": 10,
     "metadata": {},
     "output_type": "execute_result"
    }
   ],
   "source": [
    "# clip\n",
    "subs\n",
    "subs.clip(100,200) # values less than 100 become 100 and more than 200 become 200\n",
    "# values between 100 and 200 remain same"
   ]
  },
  {
   "cell_type": "code",
   "execution_count": 21,
   "metadata": {},
   "outputs": [
    {
     "name": "stdout",
     "output_type": "stream",
     "text": [
      "0    1\n",
      "1    1\n",
      "2    2\n",
      "3    2\n",
      "4    3\n",
      "5    3\n",
      "6    4\n",
      "7    4\n",
      "dtype: int64\n",
      "\n",
      "1    1\n",
      "3    2\n",
      "5    3\n",
      "7    4\n",
      "dtype: int64\n",
      "\n",
      "0    False\n",
      "1     True\n",
      "2    False\n",
      "3     True\n",
      "4    False\n",
      "5     True\n",
      "6    False\n",
      "7     True\n",
      "dtype: bool\n",
      "\n",
      "4\n"
     ]
    }
   ],
   "source": [
    "# drop_duplicates - removes duplicates\n",
    "temp = pd.Series([1,1,2,2,3,3,4,4])\n",
    "print(temp)\n",
    "print()\n",
    "\n",
    "print(temp.drop_duplicates(keep='last')) # drops previous occurrence and keeps last occurrence\n",
    "print()\n",
    "\n",
    "print(temp.duplicated()) # checks if duplicate present\n",
    "print()\n",
    "\n",
    "print(temp.duplicated().sum())"
   ]
  },
  {
   "cell_type": "code",
   "execution_count": 20,
   "metadata": {},
   "outputs": [
    {
     "data": {
      "text/plain": [
       "movie\n",
       "Uri: The Surgical Strike                   Vicky Kaushal\n",
       "Battalion 609                                Vicky Ahuja\n",
       "The Accidental Prime Minister (film)         Anupam Kher\n",
       "Why Cheat India                            Emraan Hashmi\n",
       "Evening Shadows                         Mona Ambegaonkar\n",
       "                                              ...       \n",
       "Sssshhh...                              Tanishaa Mukerji\n",
       "Rules: Pyaar Ka Superhit Formula                  Tanuja\n",
       "Right Here Right Now (film)                        Ankit\n",
       "Talaash: The Hunt Begins...                Rakhee Gulzar\n",
       "The Pink Mirror                          Edwin Fernandes\n",
       "Length: 566, dtype: object"
      ]
     },
     "execution_count": 20,
     "metadata": {},
     "output_type": "execute_result"
    }
   ],
   "source": [
    "bw.drop_duplicates()"
   ]
  },
  {
   "cell_type": "code",
   "execution_count": 22,
   "metadata": {},
   "outputs": [
    {
     "data": {
      "text/plain": [
       "0     1.0\n",
       "1     2.0\n",
       "2     3.0\n",
       "3     NaN\n",
       "4     5.0\n",
       "5     6.0\n",
       "6     NaN\n",
       "7     8.0\n",
       "8     NaN\n",
       "9    10.0\n",
       "dtype: float64"
      ]
     },
     "execution_count": 22,
     "metadata": {},
     "output_type": "execute_result"
    }
   ],
   "source": [
    "# Dealing with missing values\n",
    "temp = pd.Series([1,2,3,np.nan,5,6,np.nan,8,np.nan,10])\n",
    "temp"
   ]
  },
  {
   "cell_type": "code",
   "execution_count": 24,
   "metadata": {},
   "outputs": [
    {
     "name": "stdout",
     "output_type": "stream",
     "text": [
      "10\n",
      "7\n"
     ]
    }
   ],
   "source": [
    "print(temp.size)    # counts missing values\n",
    "print(temp.count()) # does not counts missing values"
   ]
  },
  {
   "cell_type": "code",
   "execution_count": 28,
   "metadata": {},
   "outputs": [
    {
     "name": "stdout",
     "output_type": "stream",
     "text": [
      "0    False\n",
      "1    False\n",
      "2    False\n",
      "3     True\n",
      "4    False\n",
      "5    False\n",
      "6     True\n",
      "7    False\n",
      "8     True\n",
      "9    False\n",
      "dtype: bool\n",
      "3\n"
     ]
    }
   ],
   "source": [
    "# isnull\n",
    "print(temp.isnull())\n",
    "print(temp.isnull().sum())"
   ]
  },
  {
   "cell_type": "code",
   "execution_count": 32,
   "metadata": {},
   "outputs": [
    {
     "name": "stdout",
     "output_type": "stream",
     "text": [
      "0     1.0\n",
      "1     2.0\n",
      "2     3.0\n",
      "4     5.0\n",
      "5     6.0\n",
      "7     8.0\n",
      "9    10.0\n",
      "dtype: float64\n",
      "0     1.0\n",
      "1     2.0\n",
      "2     3.0\n",
      "3     0.0\n",
      "4     5.0\n",
      "5     6.0\n",
      "6     0.0\n",
      "7     8.0\n",
      "8     0.0\n",
      "9    10.0\n",
      "dtype: float64\n",
      "0     1.0\n",
      "1     2.0\n",
      "2     3.0\n",
      "3     5.0\n",
      "4     5.0\n",
      "5     6.0\n",
      "6     5.0\n",
      "7     8.0\n",
      "8     5.0\n",
      "9    10.0\n",
      "dtype: float64\n"
     ]
    }
   ],
   "source": [
    "# TO handle missing values\n",
    "\n",
    "# 1. remove missing values\n",
    "# dropna\n",
    "print(temp.dropna())\n",
    "\n",
    "# 2. fill missing values\n",
    "# fillna\n",
    "print(temp.fillna(0)) # filled missing values with 0\n",
    "print(temp.fillna(temp.mean()))"
   ]
  },
  {
   "cell_type": "code",
   "execution_count": 34,
   "metadata": {},
   "outputs": [
    {
     "data": {
      "text/plain": [
       "match_no\n",
       "82    99\n",
       "86    49\n",
       "dtype: int64"
      ]
     },
     "execution_count": 34,
     "metadata": {},
     "output_type": "execute_result"
    }
   ],
   "source": [
    "# isin\n",
    "vk[(vk == 49) | (vk == 99)]\n",
    "\n",
    "# shortcut\n",
    "vk[vk.isin([49,99])]"
   ]
  },
  {
   "cell_type": "code",
   "execution_count": 35,
   "metadata": {},
   "outputs": [
    {
     "data": {
      "text/plain": [
       "movie\n",
       "Uri: The Surgical Strike                  VICKY\n",
       "Battalion 609                             VICKY\n",
       "The Accidental Prime Minister (film)     ANUPAM\n",
       "Why Cheat India                          EMRAAN\n",
       "Evening Shadows                            MONA\n",
       "                                         ...   \n",
       "Hum Tumhare Hain Sanam                     SHAH\n",
       "Aankhen (2002 film)                     AMITABH\n",
       "Saathiya (film)                           VIVEK\n",
       "Company (film)                             AJAY\n",
       "Awara Paagal Deewana                     AKSHAY\n",
       "Length: 1500, dtype: object"
      ]
     },
     "execution_count": 35,
     "metadata": {},
     "output_type": "execute_result"
    }
   ],
   "source": [
    "# apply\n",
    "bw.apply(lambda x:x.split()[0].upper()) # splitting the names, getting first name [0], making it capital"
   ]
  },
  {
   "cell_type": "code",
   "execution_count": 36,
   "metadata": {},
   "outputs": [
    {
     "data": {
      "text/plain": [
       "0       bad day\n",
       "1       bad day\n",
       "2       bad day\n",
       "3       bad day\n",
       "4       bad day\n",
       "         ...   \n",
       "360    good day\n",
       "361    good day\n",
       "362    good day\n",
       "363    good day\n",
       "364    good day\n",
       "Name: Subscribers gained, Length: 365, dtype: object"
      ]
     },
     "execution_count": 36,
     "metadata": {},
     "output_type": "execute_result"
    }
   ],
   "source": [
    "subs\n",
    "subs.apply(lambda x:'good day' if x > subs.mean() else 'bad day') # more than average prints good day, else bad day"
   ]
  },
  {
   "cell_type": "code",
   "execution_count": null,
   "metadata": {},
   "outputs": [],
   "source": [
    "'''\n",
    "when chagnes are made in data, its a 'view', this changes original values on that page.\n",
    "so, here if 'new' is executed, we get data. If changes are made without using copy(), it will change the original values\n",
    "so, again, if previous 'new' is executed changes are seen\n",
    "\n",
    "but using copy, executing previous 'cnew' does reflect changes\n",
    "'''"
   ]
  },
  {
   "cell_type": "code",
   "execution_count": 37,
   "metadata": {},
   "outputs": [
    {
     "data": {
      "text/plain": [
       "match_no\n",
       "1       1\n",
       "2      23\n",
       "3      13\n",
       "4      12\n",
       "5       1\n",
       "       ..\n",
       "211     0\n",
       "212    20\n",
       "213    73\n",
       "214    25\n",
       "215     7\n",
       "Length: 215, dtype: int64"
      ]
     },
     "execution_count": 37,
     "metadata": {},
     "output_type": "execute_result"
    }
   ],
   "source": [
    "# copy\n",
    "vk"
   ]
  },
  {
   "cell_type": "code",
   "execution_count": 39,
   "metadata": {},
   "outputs": [
    {
     "data": {
      "text/plain": [
       "match_no\n",
       "1     1\n",
       "2    23\n",
       "3    13\n",
       "4    12\n",
       "5     1\n",
       "dtype: int64"
      ]
     },
     "execution_count": 39,
     "metadata": {},
     "output_type": "execute_result"
    }
   ],
   "source": [
    "new = vk.head(5)\n",
    "new"
   ]
  },
  {
   "cell_type": "code",
   "execution_count": 41,
   "metadata": {},
   "outputs": [
    {
     "data": {
      "text/plain": [
       "match_no\n",
       "1    20\n",
       "2    23\n",
       "3    13\n",
       "4    12\n",
       "5     1\n",
       "dtype: int64"
      ]
     },
     "execution_count": 41,
     "metadata": {},
     "output_type": "execute_result"
    }
   ],
   "source": [
    "new[1] = 20\n",
    "new"
   ]
  },
  {
   "cell_type": "code",
   "execution_count": 46,
   "metadata": {},
   "outputs": [
    {
     "data": {
      "text/plain": [
       "match_no\n",
       "1    20\n",
       "2    23\n",
       "3    13\n",
       "4    12\n",
       "5     1\n",
       "dtype: int64"
      ]
     },
     "execution_count": 46,
     "metadata": {},
     "output_type": "execute_result"
    }
   ],
   "source": [
    "cnew = vk.head(5).copy()\n",
    "cnew"
   ]
  },
  {
   "cell_type": "code",
   "execution_count": 44,
   "metadata": {},
   "outputs": [
    {
     "data": {
      "text/plain": [
       "match_no\n",
       "1    200\n",
       "2     23\n",
       "3     13\n",
       "4     12\n",
       "5      1\n",
       "dtype: int64"
      ]
     },
     "execution_count": 44,
     "metadata": {},
     "output_type": "execute_result"
    }
   ],
   "source": [
    "cnew[1] = 200\n",
    "cnew"
   ]
  },
  {
   "cell_type": "code",
   "execution_count": 45,
   "metadata": {},
   "outputs": [
    {
     "data": {
      "text/plain": [
       "match_no\n",
       "1    200\n",
       "2     23\n",
       "3     13\n",
       "4     12\n",
       "5      1\n",
       "dtype: int64"
      ]
     },
     "execution_count": 45,
     "metadata": {},
     "output_type": "execute_result"
    }
   ],
   "source": [
    "cnew"
   ]
  },
  {
   "cell_type": "code",
   "execution_count": null,
   "metadata": {},
   "outputs": [],
   "source": []
  }
 ],
 "metadata": {
  "kernelspec": {
   "display_name": "base",
   "language": "python",
   "name": "python3"
  },
  "language_info": {
   "codemirror_mode": {
    "name": "ipython",
    "version": 3
   },
   "file_extension": ".py",
   "mimetype": "text/x-python",
   "name": "python",
   "nbconvert_exporter": "python",
   "pygments_lexer": "ipython3",
   "version": "3.11.5"
  }
 },
 "nbformat": 4,
 "nbformat_minor": 2
}
