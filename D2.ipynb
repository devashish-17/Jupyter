{
 "cells": [
  {
   "cell_type": "markdown",
   "metadata": {},
   "source": [
    "## 1. Operators in Python"
   ]
  },
  {
   "cell_type": "code",
   "execution_count": 1,
   "metadata": {},
   "outputs": [
    {
     "name": "stdout",
     "output_type": "stream",
     "text": [
      "7\n",
      "3\n",
      "10\n",
      "5.945454545454545\n",
      "5\n",
      "1\n",
      "25\n"
     ]
    }
   ],
   "source": [
    "# Arithmetic operators\n",
    "print(5 + 2)\n",
    "print(5 - 2)\n",
    "print(5 * 2)\n",
    "print(327 / 55)\n",
    "print(327 // 55) # Integer division\n",
    "print(5 % 2)\n",
    "print(5 ** 2)\n"
   ]
  },
  {
   "cell_type": "code",
   "execution_count": 6,
   "metadata": {},
   "outputs": [
    {
     "name": "stdout",
     "output_type": "stream",
     "text": [
      "True\n",
      "False\n",
      "True\n",
      "False\n",
      "False\n",
      "True\n"
     ]
    }
   ],
   "source": [
    "# Relational operators\n",
    "print(5 > 2)\n",
    "print(5 < 2)\n",
    "print(5 >= 2)\n",
    "print(5 <= 2)\n",
    "print(5 == 2)\n",
    "print(5 != 2)"
   ]
  },
  {
   "cell_type": "code",
   "execution_count": 8,
   "metadata": {},
   "outputs": [
    {
     "name": "stdout",
     "output_type": "stream",
     "text": [
      "0\n",
      "1\n",
      "True\n"
     ]
    }
   ],
   "source": [
    "# Logical operators\n",
    "print(1 and 0)\n",
    "print(1 or 0)\n",
    "print(not 0)"
   ]
  },
  {
   "cell_type": "code",
   "execution_count": 1,
   "metadata": {},
   "outputs": [
    {
     "name": "stdout",
     "output_type": "stream",
     "text": [
      "2\n",
      "3\n",
      "1\n",
      "-3\n",
      "16\n",
      "1\n"
     ]
    }
   ],
   "source": [
    "# Bitwise operators     (Eg. 2-> 0010, 3-> 0011)\n",
    "print(2 & 3)  # Bitwise AND\n",
    "print(2 | 3)  # Bitwise OR\n",
    "print(2 ^ 3)  # Bitwise XOR\n",
    "print(~2)     # Bitwise NOT  ->   ~2 = -(2)-1 = -3\n",
    "print(4 << 2) # Bitwise Left\n",
    "print(4 >> 2) # Bitwise Right"
   ]
  },
  {
   "cell_type": "code",
   "execution_count": 14,
   "metadata": {},
   "outputs": [
    {
     "name": "stdout",
     "output_type": "stream",
     "text": [
      "3\n"
     ]
    }
   ],
   "source": [
    "# Assignment operators\n",
    "a = 2\n",
    "a += 1\n",
    "print(a)"
   ]
  },
  {
   "cell_type": "code",
   "execution_count": 18,
   "metadata": {},
   "outputs": [
    {
     "name": "stdout",
     "output_type": "stream",
     "text": [
      "True\n",
      "False\n",
      "True\n"
     ]
    }
   ],
   "source": [
    "# Membership operators  ('in' and 'not in')\n",
    "print('P' in 'Pune')\n",
    "print('u' not in 'Pune')\n",
    "print(1 in [2,3,5,1,6])"
   ]
  },
  {
   "cell_type": "markdown",
   "metadata": {},
   "source": [
    "##### Quiz"
   ]
  },
  {
   "cell_type": "code",
   "execution_count": 24,
   "metadata": {},
   "outputs": [
    {
     "name": "stdout",
     "output_type": "stream",
     "text": [
      "6\n"
     ]
    }
   ],
   "source": [
    "# Program - Find the sum of a 3 digit number entered by the user\n",
    "\n",
    "a = int(input('Enter : '))\n",
    "b = 0\n",
    "b += a % 10\n",
    "a = a // 10\n",
    "\n",
    "b += a % 10\n",
    "a = a // 10\n",
    "\n",
    "b += a % 10\n",
    "print(b)"
   ]
  },
  {
   "cell_type": "markdown",
   "metadata": {},
   "source": [
    "## 2. If-Else"
   ]
  },
  {
   "cell_type": "code",
   "execution_count": 30,
   "metadata": {},
   "outputs": [
    {
     "name": "stdout",
     "output_type": "stream",
     "text": [
      "Zero\n"
     ]
    }
   ],
   "source": [
    "# check if the number is positive, negative or zero\n",
    "\n",
    "digit = int(input(\"Enter a number : \"))\n",
    "\n",
    "if digit > 0:\n",
    "    print('Positive')\n",
    "elif digit == 0:\n",
    "    print('Zero')\n",
    "else:\n",
    "    print('Negative')"
   ]
  },
  {
   "cell_type": "markdown",
   "metadata": {},
   "source": [
    "## 3. Modules in Python"
   ]
  },
  {
   "cell_type": "code",
   "execution_count": 2,
   "metadata": {},
   "outputs": [
    {
     "data": {
      "text/plain": [
       "5"
      ]
     },
     "execution_count": 2,
     "metadata": {},
     "output_type": "execute_result"
    }
   ],
   "source": [
    "# A Python file which contains functions that can be imported and used\n",
    "\n",
    "# 1. Math module\n",
    "import math\n",
    "math.factorial(5)\n",
    "math.floor(5.5)"
   ]
  },
  {
   "cell_type": "code",
   "execution_count": 34,
   "metadata": {},
   "outputs": [
    {
     "name": "stdout",
     "output_type": "stream",
     "text": [
      "['False', 'None', 'True', 'and', 'as', 'assert', 'async', 'await', 'break', 'class', 'continue', 'def', 'del', 'elif', 'else', 'except', 'finally', 'for', 'from', 'global', 'if', 'import', 'in', 'is', 'lambda', 'nonlocal', 'not', 'or', 'pass', 'raise', 'return', 'try', 'while', 'with', 'yield']\n"
     ]
    }
   ],
   "source": [
    "# 2. Keyword module\n",
    "import keyword\n",
    "print(keyword.kwlist) # -> All the keywords present in Python"
   ]
  },
  {
   "cell_type": "code",
   "execution_count": 3,
   "metadata": {},
   "outputs": [
    {
     "name": "stdout",
     "output_type": "stream",
     "text": [
      "12\n"
     ]
    }
   ],
   "source": [
    "# 3. Random module\n",
    "import random\n",
    "print(random.randint(1, 20))  # Random Integers between 1 and 20"
   ]
  },
  {
   "cell_type": "code",
   "execution_count": 5,
   "metadata": {},
   "outputs": [
    {
     "name": "stdout",
     "output_type": "stream",
     "text": [
      "2024-02-10 11:37:16.200083\n"
     ]
    }
   ],
   "source": [
    "# 4. DateTime module\n",
    "import datetime\n",
    "print(datetime.datetime.now())"
   ]
  },
  {
   "cell_type": "code",
   "execution_count": 40,
   "metadata": {},
   "outputs": [
    {
     "name": "stdout",
     "output_type": "stream",
     "text": [
      "\n",
      "Please wait a moment while I gather a list of all available modules...\n",
      "\n"
     ]
    },
    {
     "name": "stderr",
     "output_type": "stream",
     "text": [
      "c:\\Users\\devas\\anaconda3\\Lib\\site-packages\\dask\\dataframe\\_pyarrow_compat.py:23: UserWarning: You are using pyarrow version 11.0.0 which is known to be insecure. See https://www.cve.org/CVERecord?id=CVE-2023-47248 for further details. Please upgrade to pyarrow>=14.0.1 or install pyarrow-hotfix to patch your current version.\n",
      "  warnings.warn(\n",
      "c:\\Users\\devas\\anaconda3\\Lib\\site-packages\\paramiko\\transport.py:219: CryptographyDeprecationWarning: Blowfish has been deprecated\n",
      "  \"class\": algorithms.Blowfish,\n",
      "c:\\Users\\devas\\anaconda3\\Lib\\site-packages\\nltk\\twitter\\__init__.py:20: UserWarning: The twython library has not been installed. Some functionality from the twitter package will not be available.\n",
      "  warnings.warn(\n",
      "c:\\Users\\devas\\anaconda3\\Lib\\pkgutil.py:92: NumbaPendingDeprecationWarning: \u001b[1mThe 'pycc' module is pending deprecation. Replacement technology is being developed.\n",
      "\n",
      "Pending Deprecation in Numba 0.57.0. For more information please see: https://numba.readthedocs.io/en/stable/reference/deprecation.html#deprecation-of-the-numba-pycc-module\u001b[0m\n",
      "  __import__(info.name)\n",
      "c:\\Users\\devas\\anaconda3\\Lib\\pkgutil.py:92: UserWarning: The numpy.array_api submodule is still experimental. See NEP 47.\n",
      "  __import__(info.name)\n",
      "c:\\Users\\devas\\anaconda3\\Lib\\site-packages\\_distutils_hack\\__init__.py:33: UserWarning: Setuptools is replacing distutils.\n",
      "  warnings.warn(\"Setuptools is replacing distutils.\")\n",
      "No QCoreApplication instance found. Application patches not applied. You have to call load_stylesheet function after instantiation of QApplication to take effect. \n",
      "None of PyTorch, TensorFlow >= 2.0, or Flax have been found. Models won't be available and only tokenizers, configuration and file/data utilities can be used.\n"
     ]
    },
    {
     "name": "stdout",
     "output_type": "stream",
     "text": [
      "IPython             conda               mdurl               smart_open\n",
      "OpenSSL             conda_build         menuinst            smtpd\n",
      "PIL                 conda_content_trust mimetypes           smtplib\n",
      "PyQt5               conda_env           mistune             snappy\n",
      "TBB                 conda_index         mkl                 sndhdr\n",
      "__future__          conda_libmamba_solver mkl_fft             sniffio\n",
      "__hello__           conda_pack          mmap                snowballstemmer\n",
      "__phello__          conda_package_handling mmapfile            socket\n",
      "_abc                conda_package_streaming mmsystem            socketserver\n",
      "_aix_support        conda_token         modulefinder        socks\n",
      "_argon2_cffi_bindings conda_verify        more_itertools      sockshandler\n",
      "_ast                configparser        mpmath              sortedcontainers\n",
      "_asyncio            constantly          msgpack             soupsieve\n",
      "_bisect             contextlib          msilib              sphinx\n",
      "_black_version      contextvars         msvcrt              spyder\n",
      "_blake2             contourpy           multidict           spyder_kernels\n",
      "_bootsubprocess     cookiecutter        multipledispatch    sqlalchemy\n",
      "_brotli             copy                multiprocess        sqlite3\n",
      "_bz2                copyreg             multiprocessing     sre_compile\n",
      "_cffi_backend       cpuinfo             munkres             sre_constants\n",
      "_codecs             crypt               mypy_extensions     sre_parse\n",
      "_codecs_cn          cryptography        nacl                ssl\n",
      "_codecs_hk          cssselect           navigator_updater   sspi\n",
      "_codecs_iso2022     csv                 nbclient            sspicon\n",
      "_codecs_jp          ctypes              nbconvert           stack_data\n",
      "_codecs_kr          curl                nbformat            stat\n",
      "_codecs_tw          curses              nest_asyncio        statistics\n",
      "_collections        cwp                 netbios             statsmodels\n",
      "_collections_abc    cycler              netrc               string\n",
      "_compat_pickle      cytoolz             networkx            stringprep\n",
      "_compression        daal4py             nltk                struct\n",
      "_contextvars        dask                nntplib             subprocess\n",
      "_csv                dataclasses         notebook            sunau\n",
      "_ctypes             datasets            notebook_shim       sympy\n",
      "_ctypes_test        datashader          nt                  symtable\n",
      "_datetime           datetime            ntpath              sys\n",
      "_decimal            dateutil            ntsecuritycon       sysconfig\n",
      "_distutils_hack     dbi                 nturl2path          tables\n",
      "_elementtree        dbm                 numba               tabnanny\n",
      "_functools          dde                 numbergen           tabulate\n",
      "_hashlib            debugpy             numbers             tarfile\n",
      "_heapq              decimal             numexpr             tbb\n",
      "_imp                decorator           numpy               tblib\n",
      "_io                 defusedxml          numpydoc            telnetlib\n",
      "_json               diff_match_patch    odbc                tempfile\n",
      "_locale             difflib             onedal              tenacity\n",
      "_lsprof             dill                opcode              terminado\n",
      "_lzma               dis                 openpyxl            test\n",
      "_markupbase         distributed         operator            test_pycosat\n",
      "_md5                distro              optparse            text_unidecode\n",
      "_msi                distutils           os                  textdistance\n",
      "_multibytecodec     docstring_to_markdown overrides           textwrap\n",
      "_multiprocess       doctest             packaging           this\n",
      "_multiprocessing    docutils            pandas              threading\n",
      "_nsis               dotenv              pandocfilters       threadpoolctl\n",
      "_opcode             eg                  panel               three_merge\n",
      "_operator           email               param               tifffile\n",
      "_osx_support        encodings           paramiko            time\n",
      "_overlapped         ensurepip           parsel              timeit\n",
      "_pickle             entrypoints         parso               timer\n",
      "_plotly_future_     enum                partd               tinycss2\n",
      "_plotly_utils       erfa                past                tkinter\n",
      "_py_abc             errno               pathlib             tldextract\n",
      "_pydecimal          et_xmlfile          pathspec            tlz\n",
      "_pyio               executing           patsy               token\n",
      "_pytest             fastjsonschema      pdb                 tokenize\n",
      "_queue              faulthandler        pep8                tokenizers\n",
      "_random             filecmp             perfmon             toml\n",
      "_sha1               fileinput           pexpect             tomlkit\n",
      "_sha256             filelock            pickle              tomllib\n",
      "_sha3               flake8              pickleshare         toolz\n",
      "_sha512             flask               pickletools         tornado\n",
      "_signal             fnmatch             pip                 tqdm\n",
      "_sitebuiltins       fontTools           pipes               trace\n",
      "_socket             fractions           pkce                traceback\n",
      "_sqlite3            frozenlist          pkg_resources       tracemalloc\n",
      "_sre                fsspec              pkginfo             traitlets\n",
      "_ssl                ftplib              pkgutil             transformers\n",
      "_stat               functools           platform            truststore\n",
      "_statistics         future              platformdirs        tty\n",
      "_string             gc                  plistlib            turtle\n",
      "_strptime           genericpath         plotly              turtledemo\n",
      "_struct             gensim              pluggy              twisted\n",
      "_symtable           getopt              ply                 types\n",
      "_system_path        getpass             poplib              typing\n",
      "_testbuffer         gettext             posixpath           typing_extensions\n",
      "_testcapi           glob                pprint              tzdata\n",
      "_testconsole        gmpy2               profile             uc_micro\n",
      "_testimportmultiple graphlib            prometheus_client   ujson\n",
      "_testinternalcapi   greenlet            prompt_toolkit      unicodedata\n",
      "_testmultiphase     gzip                protego             unidecode\n",
      "_thread             h5py                pstats              unittest\n",
      "_threading_local    hashlib             psutil              urllib\n",
      "_tkinter            heapdict            pty                 urllib3\n",
      "_tokenize           heapq               ptyprocess          uu\n",
      "_tracemalloc        hmac                pure_eval           uuid\n",
      "_typing             holoviews           py                  venv\n",
      "_uuid               html                py_compile          w3lib\n",
      "_warnings           http                pyarrow             warnings\n",
      "_weakref            huggingface_hub     pyasn1              watchdog\n",
      "_weakrefset         hvplot              pyasn1_modules      wave\n",
      "_win32sysloader     hyperlink           pyclbr              wcwidth\n",
      "_winapi             idlelib             pycodestyle         weakref\n",
      "_winxptheme         idna                pycosat             webbrowser\n",
      "_xxsubinterpreters  imagecodecs         pycparser           webencodings\n",
      "_yaml               imageio             pyct                websocket\n",
      "_zoneinfo           imagesize           pycurl              werkzeug\n",
      "abc                 imaplib             pydantic            whatthepatch\n",
      "adodbapi            imblearn            pydispatch          wheel\n",
      "afxres              imghdr              pydoc               widgetsnbextension\n",
      "aifc                imp                 pydoc_data          win2kras\n",
      "aiobotocore         importlib           pydocstyle          win32api\n",
      "aiohttp             importlib_metadata  pyexpat             win32clipboard\n",
      "aioitertools        incremental         pyflakes            win32com\n",
      "aiosignal           inflection          pygments            win32con\n",
      "alabaster           iniconfig           pylab               win32console\n",
      "anaconda_anon_usage inspect             pylint              win32cred\n",
      "anaconda_catalogs   intake              pylint_venv         win32crypt\n",
      "anaconda_cloud_auth intervaltree        pyls_spyder         win32cryptcon\n",
      "anaconda_navigator  io                  pylsp               win32ctypes\n",
      "anaconda_project    ipaddress           pylsp_black         win32event\n",
      "antigravity         ipykernel           pylsp_jsonrpc       win32evtlog\n",
      "anyio               ipykernel_launcher  pyodbc              win32evtlogutil\n",
      "appdirs             ipython_genutils    pyparsing           win32file\n",
      "archspec            ipywidgets          pytest              win32gui\n",
      "argon2              isapi               pythoncom           win32gui_struct\n",
      "argparse            isort               pythonjsonlogger    win32help\n",
      "array               isympy              pytoolconfig        win32inet\n",
      "arrow               itemadapter         pytz                win32inetcon\n",
      "ast                 itemloaders         pyviz_comms         win32job\n",
      "astroid             itertools           pywin               win32lz\n",
      "astropy             itsdangerous        pywin32_bootstrap   win32net\n",
      "asttokens           jedi                pywin32_testutil    win32netcon\n",
      "async_lru           jellyfish           pywintypes          win32pdh\n",
      "asynchat            jinja2              pywt                win32pdhquery\n",
      "asyncio             jmespath            qdarkstyle          win32pdhutil\n",
      "asyncore            joblib              qstylizer           win32pipe\n",
      "atexit              json                qtawesome           win32print\n",
      "atomicwrites        json5               qtconsole           win32process\n",
      "attr                jsonpatch           qtpy                win32profile\n",
      "attrs               jsonpointer         queue               win32ras\n",
      "audioop             jsonschema          queuelib            win32rcparser\n",
      "automat             jsonschema_specifications quopri              win32security\n",
      "autopep8            jupyter             random              win32service\n",
      "babel               jupyter_client      rasutil             win32serviceutil\n",
      "backports           jupyter_console     re                  win32timezone\n",
      "base64              jupyter_core        referencing         win32trace\n",
      "bcrypt              jupyter_events      regcheck            win32traceutil\n",
      "bdb                 jupyter_lsp         regex               win32transaction\n",
      "binaryornot         jupyter_server      regutil             win32ts\n",
      "binascii            jupyter_server_terminals repo_cli            win32ui\n",
      "binstar_client      jupyterlab          reprlib             win32uiole\n",
      "bisect              jupyterlab_plotly   requests            win32verstamp\n",
      "black               jupyterlab_pygments requests_file       win32wnet\n",
      "blackd              jupyterlab_server   requests_toolbelt   win_inet_pton\n",
      "bleach              jupyterlab_widgets  responses           winerror\n",
      "blib2to3            jwt                 rfc3339_validator   winioctlcon\n",
      "bokeh               kaleido             rfc3986_validator   winnt\n",
      "boltons             keyring             rich                winperf\n",
      "botocore            keyword             rlcompleter         winpty\n",
      "bottleneck          kiwisolver          rope                winreg\n",
      "brotli              lazy_loader         rpds                winsound\n",
      "bs4                 lazy_object_proxy   rtree               winxpgui\n",
      "builtins            lib2to3             ruamel_yaml         winxptheme\n",
      "bz2                 libarchive          runpy               wrapt\n",
      "cProfile            libfuturize         s3fs                wsgiref\n",
      "calendar            libmambapy          safetensors         xarray\n",
      "certifi             libpasteurize       sched               xdrlib\n",
      "cffi                lief                scipy               xlwings\n",
      "cgi                 linecache           scrapy              xml\n",
      "cgitb               linkify_it          seaborn             xmlrpc\n",
      "chardet             llvmlite            secrets             xxhash\n",
      "charset_normalizer  lmdb                select              xxlimited\n",
      "chunk               locale              selectors           xxlimited_35\n",
      "click               locket              semver              xxsubtype\n",
      "cloudpickle         logging             send2trash          xyzservices\n",
      "clyent              lxml                service_identity    yaml\n",
      "cmath               lz4                 servicemanager      yapf\n",
      "cmd                 lzma                setuptools          yapftests\n",
      "code                mailbox             shelve              yarl\n",
      "codecs              mailcap             shlex               zict\n",
      "codeop              markdown            shutil              zipapp\n",
      "collections         markdown_it         signal              zipfile\n",
      "colorama            markupsafe          sipbuild            zipimport\n",
      "colorcet            marshal             site                zipp\n",
      "colorsys            math                six                 zlib\n",
      "comm                matplotlib          skimage             zmq\n",
      "commctrl            matplotlib_inline   sklearn             zoneinfo\n",
      "compileall          mccabe              sklearnex           zope\n",
      "concurrent          mdit_py_plugins     slugify             zstandard\n",
      "\n",
      "Enter any module name to get more help.  Or, type \"modules spam\" to search\n",
      "for modules whose name or summary contain the string \"spam\".\n",
      "\n"
     ]
    }
   ],
   "source": [
    "help('modules') # Prints the list of all the modules currently installed"
   ]
  },
  {
   "cell_type": "markdown",
   "metadata": {},
   "source": [
    "## 4. Loops"
   ]
  },
  {
   "cell_type": "code",
   "execution_count": 43,
   "metadata": {},
   "outputs": [
    {
     "name": "stdout",
     "output_type": "stream",
     "text": [
      "5  x  1  =  5\n",
      "5  x  2  =  10\n",
      "5  x  3  =  15\n",
      "5  x  4  =  20\n",
      "5  x  5  =  25\n",
      "5  x  6  =  30\n",
      "5  x  7  =  35\n",
      "5  x  8  =  40\n",
      "5  x  9  =  45\n",
      "5  x  10  =  50\n"
     ]
    }
   ],
   "source": [
    "# While loop - Print table\n",
    "\n",
    "a = int(input('Enter : '))\n",
    "i = 1\n",
    "while i<11:\n",
    "    print(a, ' x ', i, ' = ', a*i)\n",
    "    i += 1"
   ]
  },
  {
   "cell_type": "code",
   "execution_count": 44,
   "metadata": {},
   "outputs": [
    {
     "name": "stdout",
     "output_type": "stream",
     "text": [
      "1\n",
      "2\n",
      "End\n"
     ]
    }
   ],
   "source": [
    "# while loop with else\n",
    "\n",
    "x = 1\n",
    "while x < 3:\n",
    "    print(x)\n",
    "    x += 1\n",
    "else:\n",
    "    print('End')"
   ]
  },
  {
   "cell_type": "code",
   "execution_count": 53,
   "metadata": {},
   "outputs": [
    {
     "name": "stdout",
     "output_type": "stream",
     "text": [
      "Guess Lower\n",
      "Guess Lower\n",
      "Guess Lower\n",
      "Guess Higher\n",
      "Guess Higher\n",
      "Guess Higher\n",
      "Guess Higher\n",
      "Guess Lower\n",
      "Correct Guess\n"
     ]
    }
   ],
   "source": [
    "# Gussing Game\n",
    "\n",
    "# Generate a random integer between 1 and 100\n",
    "import random\n",
    "jackpot = random.randint(1, 100)\n",
    "\n",
    "\n",
    "while guess != jackpot:\n",
    "    guess = int(input('Enter : ')) # User input the number to compare\n",
    "    if guess < jackpot:\n",
    "        print('Guess Higher')\n",
    "    else:\n",
    "        print('Guess Lower')\n",
    "else:\n",
    "    print('Correct Guess')\n",
    "    "
   ]
  },
  {
   "cell_type": "code",
   "execution_count": 55,
   "metadata": {},
   "outputs": [
    {
     "name": "stdout",
     "output_type": "stream",
     "text": [
      "1\n",
      "2\n",
      "3\n",
      "4\n",
      "5\n",
      "6\n",
      "7\n",
      "8\n",
      "9\n",
      "10\n"
     ]
    }
   ],
   "source": [
    "# For loop\n",
    "\n",
    "for i in range(1, 11):  # 3\n",
    "    print(i)"
   ]
  },
  {
   "cell_type": "code",
   "execution_count": 56,
   "metadata": {},
   "outputs": [
    {
     "name": "stdout",
     "output_type": "stream",
     "text": [
      "1\n",
      "3\n",
      "5\n",
      "7\n",
      "9\n"
     ]
    }
   ],
   "source": [
    "for i in range(1, 11, 2):  # start, stop, step\n",
    "    print(i)"
   ]
  },
  {
   "cell_type": "code",
   "execution_count": 61,
   "metadata": {},
   "outputs": [
    {
     "name": "stdout",
     "output_type": "stream",
     "text": [
      "5\n",
      "4\n",
      "3\n",
      "2\n",
      "1\n"
     ]
    }
   ],
   "source": [
    "for i in range(5, 0, -1):\n",
    "    print(i)"
   ]
  },
  {
   "cell_type": "code",
   "execution_count": 62,
   "metadata": {},
   "outputs": [
    {
     "name": "stdout",
     "output_type": "stream",
     "text": [
      "P\n",
      "u\n",
      "n\n",
      "e\n"
     ]
    }
   ],
   "source": [
    "for i in 'Pune':\n",
    "    print(i)"
   ]
  },
  {
   "cell_type": "markdown",
   "metadata": {},
   "source": [
    "##### Program - The current population of a town is 10000. The population of the town is increasing at 10% per year. You have to write a program to find out the population at the end of the each of the last 10 years."
   ]
  },
  {
   "cell_type": "code",
   "execution_count": 70,
   "metadata": {},
   "outputs": [
    {
     "name": "stdout",
     "output_type": "stream",
     "text": [
      "10 10000\n",
      "9 9090.90909090909\n",
      "8 8264.462809917353\n",
      "7 7513.148009015775\n",
      "6 6830.134553650703\n",
      "5 6209.213230591548\n",
      "4 5644.739300537771\n",
      "3 5131.5811823070635\n",
      "2 4665.07380209733\n",
      "1 4240.976183724845\n"
     ]
    }
   ],
   "source": [
    "curr_pop = 10000\n",
    "\n",
    "for i in range(10, 0, -1):\n",
    "    print(i, curr_pop)\n",
    "    curr_pop = curr_pop/1.1"
   ]
  },
  {
   "cell_type": "markdown",
   "metadata": {},
   "source": [
    "##### Sequence Sum\n",
    "##### 1/1! + 2/2! + 3/3! + ..."
   ]
  },
  {
   "cell_type": "code",
   "execution_count": 82,
   "metadata": {},
   "outputs": [
    {
     "name": "stdout",
     "output_type": "stream",
     "text": [
      "15.0\n"
     ]
    }
   ],
   "source": [
    "# Incomplete Code\n",
    "# .\n",
    "# .\n",
    "# .\n",
    "# .\n",
    "import math\n",
    "a = 5\n",
    "result = 0\n",
    "fact = 1\n",
    "for i in range(1, a+1):\n",
    "    fact = fact * 1\n",
    "    result += i/fact\n",
    "    \n",
    "print(result)"
   ]
  },
  {
   "cell_type": "code",
   "execution_count": null,
   "metadata": {},
   "outputs": [],
   "source": []
  }
 ],
 "metadata": {
  "kernelspec": {
   "display_name": "base",
   "language": "python",
   "name": "python3"
  },
  "language_info": {
   "codemirror_mode": {
    "name": "ipython",
    "version": 3
   },
   "file_extension": ".py",
   "mimetype": "text/x-python",
   "name": "python",
   "nbconvert_exporter": "python",
   "pygments_lexer": "ipython3",
   "version": "3.11.5"
  }
 },
 "nbformat": 4,
 "nbformat_minor": 2
}
