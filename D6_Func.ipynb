{
 "cells": [
  {
   "cell_type": "markdown",
   "metadata": {},
   "source": [
    "## Functions"
   ]
  },
  {
   "cell_type": "code",
   "execution_count": 2,
   "metadata": {},
   "outputs": [],
   "source": [
    "# Built-in functions\n",
    "# User Defined Functions\n",
    "\n",
    "# Philosophy\n",
    "# 1. Abstraction\n",
    "# 2. Decomposition"
   ]
  },
  {
   "cell_type": "code",
   "execution_count": 27,
   "metadata": {},
   "outputs": [
    {
     "name": "stdout",
     "output_type": "stream",
     "text": [
      "odd\n",
      "even\n",
      "odd\n",
      "even\n",
      "odd\n",
      "even\n",
      "odd\n",
      "even\n",
      "odd\n",
      "even\n",
      "Invalid input\n",
      "\n",
      "    This function returns if the number is odd or even\n",
      "    input - any valid integer\n",
      "    output - odd/even\n",
      "    \n"
     ]
    }
   ],
   "source": [
    "def is_even(num):\n",
    "    '''\n",
    "    This function returns if the number is odd or even\n",
    "    input - any valid integer\n",
    "    output - odd/even\n",
    "    '''\n",
    "    if type(num) == int:\n",
    "        if num % 2 == 0:\n",
    "            return 'even'\n",
    "        else:\n",
    "            return 'odd'\n",
    "    else:\n",
    "        return 'Invalid input'\n",
    "    \n",
    "for i in range(1, 11):\n",
    "    x = is_even(i)\n",
    "    print(x)   \n",
    "    \n",
    "y = is_even('dev')\n",
    "print(y)\n",
    "\n",
    "# for Documentation\n",
    "print(is_even.__doc__)"
   ]
  },
  {
   "cell_type": "markdown",
   "metadata": {},
   "source": [
    "### Types of Arguments"
   ]
  },
  {
   "cell_type": "code",
   "execution_count": 16,
   "metadata": {},
   "outputs": [
    {
     "name": "stdout",
     "output_type": "stream",
     "text": [
      "1024\n",
      "1\n",
      "3\n",
      "1024\n"
     ]
    }
   ],
   "source": [
    "def power(x=1, y=1):\n",
    "    return x**y\n",
    "\n",
    "# Defaults Arguments\n",
    "print(power(4, 5))\n",
    "print(power())\n",
    "print(power(3))\n",
    "\n",
    "# Keyword Arguments\n",
    "print(power(y=5, x=4)) # sending arguments according to keyword"
   ]
  },
  {
   "cell_type": "markdown",
   "metadata": {},
   "source": [
    "### *args and **kwargs"
   ]
  },
  {
   "cell_type": "markdown",
   "metadata": {},
   "source": [
    "##### *args and **kwargs are special Python keywords that are used to pass the variable of any length of the variable to the function"
   ]
  },
  {
   "cell_type": "code",
   "execution_count": 24,
   "metadata": {},
   "outputs": [
    {
     "name": "stdout",
     "output_type": "stream",
     "text": [
      "(1, 2, 3, 4, 5, 6, 7, 8, 9, 10)\n",
      "3628800\n"
     ]
    }
   ],
   "source": [
    "# *args - arguments\n",
    "# allows us to pass a variable number of non-keyword arguments to the function\n",
    "# receives n numbers of arguments\n",
    "\n",
    "def multiply(*argsDev): # *args can be of any name\n",
    "    product = 1\n",
    "    for i in argsDev:\n",
    "        product = product * i\n",
    "    print(argsDev)  #  saved in Tuple\n",
    "    return product\n",
    "\n",
    "print(multiply(1, 2, 3, 4, 5, 6, 7, 8, 9, 10))"
   ]
  },
  {
   "cell_type": "code",
   "execution_count": 30,
   "metadata": {},
   "outputs": [
    {
     "name": "stdout",
     "output_type": "stream",
     "text": [
      "India - Delhi\n",
      "SriLanka - Colombo\n",
      "nepal - Kathmandu\n"
     ]
    }
   ],
   "source": [
    "# *kwargs - keyword arguments\n",
    "# allows us to pass a number of keyword arguments to the function\n",
    "# keyword arguments means that they contain a key-value pair like Python Dictionary\n",
    "\n",
    "def display(**kwargs):\n",
    "    for (key, value) in kwargs.items():\n",
    "        print(key, '-',  value)\n",
    "\n",
    "display(India='Delhi', SriLanka='Colombo', nepal='Kathmandu')"
   ]
  },
  {
   "cell_type": "markdown",
   "metadata": {},
   "source": [
    "### Nested Functions"
   ]
  },
  {
   "cell_type": "code",
   "execution_count": 33,
   "metadata": {},
   "outputs": [
    {
     "name": "stdout",
     "output_type": "stream",
     "text": [
      "Inside\n",
      "Outside\n"
     ]
    }
   ],
   "source": [
    "def f():\n",
    "    def g():\n",
    "        print('Inside')\n",
    "    g()\n",
    "    print('Outside')\n",
    "\n",
    "f()\n",
    "# g()  -> cannot access globally"
   ]
  },
  {
   "cell_type": "markdown",
   "metadata": {},
   "source": [
    "### Functions in Python are 1st Class Citizens"
   ]
  },
  {
   "cell_type": "code",
   "execution_count": 1,
   "metadata": {},
   "outputs": [
    {
     "name": "stdout",
     "output_type": "stream",
     "text": [
      "<class 'function'>\n",
      "2361829220704\n"
     ]
    }
   ],
   "source": [
    "# Functions acts as a data type\n",
    "\n",
    "# type and id\n",
    "def square(num):\n",
    "    return num**2\n",
    "\n",
    "print(type(square))\n",
    "print(id(square))"
   ]
  },
  {
   "cell_type": "code",
   "execution_count": 37,
   "metadata": {},
   "outputs": [
    {
     "data": {
      "text/plain": [
       "400"
      ]
     },
     "execution_count": 37,
     "metadata": {},
     "output_type": "execute_result"
    }
   ],
   "source": [
    "# reassign\n",
    "x = square\n",
    "x(20)"
   ]
  },
  {
   "cell_type": "code",
   "execution_count": 38,
   "metadata": {},
   "outputs": [],
   "source": [
    "# deleting a function\n",
    "# del square"
   ]
  },
  {
   "cell_type": "code",
   "execution_count": 43,
   "metadata": {},
   "outputs": [
    {
     "data": {
      "text/plain": [
       "[1, 2, 3, <function __main__.square(num)>]"
      ]
     },
     "execution_count": 43,
     "metadata": {},
     "output_type": "execute_result"
    }
   ],
   "source": [
    "# storing\n",
    "def square(num):\n",
    "    return num**2\n",
    "\n",
    "L = [1, 2, 3, square]\n",
    "L"
   ]
  },
  {
   "cell_type": "code",
   "execution_count": 44,
   "metadata": {},
   "outputs": [
    {
     "name": "stdout",
     "output_type": "stream",
     "text": [
      "7\n"
     ]
    }
   ],
   "source": [
    "# returning a function\n",
    "def f():\n",
    "    def x(a, b):\n",
    "        return a+b\n",
    "    return x\n",
    "val = f()(3, 4)  # 'f' is called and return 'x' -> this becomes x(3, 4)\n",
    "print(val)"
   ]
  },
  {
   "cell_type": "code",
   "execution_count": 46,
   "metadata": {},
   "outputs": [
    {
     "name": "stdout",
     "output_type": "stream",
     "text": [
      "Inside fun B\n",
      "Inside fun A\n",
      "None\n"
     ]
    }
   ],
   "source": [
    "# function as argument\n",
    "def fun_a():\n",
    "    print('Inside fun A')\n",
    "\n",
    "def fun_b(x):\n",
    "    print('Inside fun B')\n",
    "    return x() # -> calling function fun_a()\n",
    "\n",
    "print(fun_b(fun_a))"
   ]
  },
  {
   "cell_type": "markdown",
   "metadata": {},
   "source": [
    "## Lambda functions"
   ]
  },
  {
   "cell_type": "code",
   "execution_count": 50,
   "metadata": {},
   "outputs": [],
   "source": [
    "# Lambda functions are used with Higher Order Functions (HOF)\n",
    "# HOF is a function which receives function as argument and can also returns function\n",
    "\n",
    "# It is a small anonymous function\n",
    "# it can take any number of arguments, but can only have one expression\n",
    "# returns the whole function\n",
    "# always written in one line"
   ]
  },
  {
   "cell_type": "code",
   "execution_count": 48,
   "metadata": {},
   "outputs": [
    {
     "data": {
      "text/plain": [
       "25"
      ]
     },
     "execution_count": 48,
     "metadata": {},
     "output_type": "execute_result"
    }
   ],
   "source": [
    "# square of a number\n",
    "num = lambda x:x*x\n",
    "num(5)"
   ]
  },
  {
   "cell_type": "code",
   "execution_count": 49,
   "metadata": {},
   "outputs": [
    {
     "data": {
      "text/plain": [
       "25"
      ]
     },
     "execution_count": 49,
     "metadata": {},
     "output_type": "execute_result"
    }
   ],
   "source": [
    "num = lambda x, y : x * y\n",
    "num(5, 5)"
   ]
  },
  {
   "cell_type": "code",
   "execution_count": 51,
   "metadata": {},
   "outputs": [
    {
     "data": {
      "text/plain": [
       "True"
      ]
     },
     "execution_count": 51,
     "metadata": {},
     "output_type": "execute_result"
    }
   ],
   "source": [
    "# check if string has 'a'\n",
    "ch = lambda s : 'a' in s\n",
    "ch('cat')"
   ]
  },
  {
   "cell_type": "code",
   "execution_count": 55,
   "metadata": {},
   "outputs": [
    {
     "data": {
      "text/plain": [
       "'even'"
      ]
     },
     "execution_count": 55,
     "metadata": {},
     "output_type": "execute_result"
    }
   ],
   "source": [
    "# check if odd or even \n",
    "num = lambda x : 'even' if x % 2 == 0 else 'odd'\n",
    "num(10)"
   ]
  },
  {
   "cell_type": "code",
   "execution_count": 58,
   "metadata": {},
   "outputs": [
    {
     "name": "stdout",
     "output_type": "stream",
     "text": [
      "[1, 4, 9, 16, 25, 36]\n"
     ]
    }
   ],
   "source": [
    "# Example of HOF - squaring numbers\n",
    "\n",
    "def square(x):\n",
    "    return x*x\n",
    "\n",
    "def transform(f, L):\n",
    "    output = []\n",
    "    for i in L:\n",
    "        output.append(f(i))\n",
    "        \n",
    "    print(output)\n",
    "    \n",
    "L = [1, 2, 3, 4, 5, 6]\n",
    "\n",
    "transform(square, L)"
   ]
  },
  {
   "cell_type": "code",
   "execution_count": 59,
   "metadata": {},
   "outputs": [
    {
     "name": "stdout",
     "output_type": "stream",
     "text": [
      "[1, 4, 9, 16, 25, 36]\n"
     ]
    }
   ],
   "source": [
    "# HOF with lambda\n",
    "def transform(f, L):\n",
    "    output = []\n",
    "    for i in L:\n",
    "        output.append(f(i))\n",
    "        \n",
    "    print(output)\n",
    "    \n",
    "L = [1, 2, 3, 4, 5, 6]\n",
    "\n",
    "transform(lambda x:x**2, L)"
   ]
  },
  {
   "cell_type": "markdown",
   "metadata": {},
   "source": [
    "## Map"
   ]
  },
  {
   "cell_type": "code",
   "execution_count": 60,
   "metadata": {},
   "outputs": [
    {
     "data": {
      "text/plain": [
       "[1, 4, 9, 16, 25, 36]"
      ]
     },
     "execution_count": 60,
     "metadata": {},
     "output_type": "execute_result"
    }
   ],
   "source": [
    "# square the items of a list\n",
    "list(map(lambda x:x**2, [1, 2, 3, 4, 5, 6]))"
   ]
  },
  {
   "cell_type": "code",
   "execution_count": 62,
   "metadata": {},
   "outputs": [
    {
     "data": {
      "text/plain": [
       "['odd', 'even', 'odd', 'odd', 'odd', 'even']"
      ]
     },
     "execution_count": 62,
     "metadata": {},
     "output_type": "execute_result"
    }
   ],
   "source": [
    "L = [1, 2, 3, 7, 5, 6]\n",
    "list(map(lambda x:'even' if x%2 == 0 else 'odd', L))"
   ]
  },
  {
   "cell_type": "code",
   "execution_count": 1,
   "metadata": {},
   "outputs": [
    {
     "data": {
      "text/plain": [
       "['Jack', 'Bob', 'Peter']"
      ]
     },
     "execution_count": 1,
     "metadata": {},
     "output_type": "execute_result"
    }
   ],
   "source": [
    "# fetch names from a list of dict\n",
    "users = [\n",
    "    {\n",
    "        'name':'Jack',\n",
    "        'age':25,\n",
    "        'gender':'male'\n",
    "    },\n",
    "    {\n",
    "        'name':'Bob',\n",
    "        'age':30,\n",
    "        'gender':'male'\n",
    "    },\n",
    "    {\n",
    "        'name':'Peter',\n",
    "        'age':27,\n",
    "        'gender':'male'\n",
    "    }\n",
    "]\n",
    "list(map(lambda users: users['name'], users))"
   ]
  },
  {
   "cell_type": "markdown",
   "metadata": {},
   "source": [
    "## Filter"
   ]
  },
  {
   "cell_type": "code",
   "execution_count": 2,
   "metadata": {},
   "outputs": [
    {
     "data": {
      "text/plain": [
       "[6, 7, 8]"
      ]
     },
     "execution_count": 2,
     "metadata": {},
     "output_type": "execute_result"
    }
   ],
   "source": [
    "# Numbers greater than 5\n",
    "l = [3,4,5,6,7,8]\n",
    "list(filter(lambda x:x>5, l))"
   ]
  },
  {
   "cell_type": "markdown",
   "metadata": {},
   "source": [
    "## Reduce"
   ]
  },
  {
   "cell_type": "code",
   "execution_count": 4,
   "metadata": {},
   "outputs": [
    {
     "data": {
      "text/plain": [
       "33"
      ]
     },
     "execution_count": 4,
     "metadata": {},
     "output_type": "execute_result"
    }
   ],
   "source": [
    "# sum of all items\n",
    "import functools\n",
    "l = [3,4,5,6,7,8]\n",
    "\n",
    "functools.reduce(lambda x,y:x+y, l)"
   ]
  },
  {
   "cell_type": "code",
   "execution_count": 6,
   "metadata": {},
   "outputs": [
    {
     "data": {
      "text/plain": [
       "8"
      ]
     },
     "execution_count": 6,
     "metadata": {},
     "output_type": "execute_result"
    }
   ],
   "source": [
    "# find min\n",
    "functools.reduce(lambda x,y: x if x<y else y, l)"
   ]
  },
  {
   "cell_type": "code",
   "execution_count": null,
   "metadata": {},
   "outputs": [],
   "source": []
  }
 ],
 "metadata": {
  "kernelspec": {
   "display_name": "base",
   "language": "python",
   "name": "python3"
  },
  "language_info": {
   "codemirror_mode": {
    "name": "ipython",
    "version": 3
   },
   "file_extension": ".py",
   "mimetype": "text/x-python",
   "name": "python",
   "nbconvert_exporter": "python",
   "pygments_lexer": "ipython3",
   "version": "3.11.5"
  }
 },
 "nbformat": 4,
 "nbformat_minor": 2
}
