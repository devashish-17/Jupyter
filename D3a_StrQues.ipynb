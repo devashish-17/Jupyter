{
 "cells": [
  {
   "cell_type": "code",
   "execution_count": 1,
   "metadata": {},
   "outputs": [
    {
     "name": "stdout",
     "output_type": "stream",
     "text": [
      "14\n"
     ]
    }
   ],
   "source": [
    "# Find the length of a given string without using the len() function\n",
    "\n",
    "s = 'My name is Dev'\n",
    "lem = 0\n",
    "for i in s:\n",
    "    lem += 1\n",
    "print(lem)"
   ]
  },
  {
   "cell_type": "code",
   "execution_count": 3,
   "metadata": {},
   "outputs": [
    {
     "name": "stdout",
     "output_type": "stream",
     "text": [
      "johncena\n"
     ]
    }
   ],
   "source": [
    "# Extract the username from the given email\n",
    "# Eg, johncena@gmail.com\n",
    "# Then, username = johncena\n",
    "\n",
    "s = 'johncena@gmail.com'\n",
    "pos = s.find('@')\n",
    "print(s[0:pos])"
   ]
  },
  {
   "cell_type": "code",
   "execution_count": 1,
   "metadata": {},
   "outputs": [
    {
     "name": "stdout",
     "output_type": "stream",
     "text": [
      "The ct is on the wll"
     ]
    }
   ],
   "source": [
    "# Program to remove a particular character from a string\n",
    "\n",
    "s = 'The cat is on the wall'\n",
    "for i in s:\n",
    "    if i == 'a':\n",
    "        continue\n",
    "    print(i, end='')"
   ]
  },
  {
   "cell_type": "code",
   "execution_count": 11,
   "metadata": {},
   "outputs": [
    {
     "name": "stdout",
     "output_type": "stream",
     "text": [
      "Palindrome\n",
      "Palindrome\n"
     ]
    }
   ],
   "source": [
    "# Write the program to check is the word is palindrome\n",
    "s = 'malayalam'\n",
    "\n",
    "# 1st solution\n",
    "s1 = s[::-1]\n",
    "if s == s1:\n",
    "    print('Palindrome')\n",
    "else:\n",
    "    print('Not')\n",
    "    \n",
    "    \n",
    "# 2nd solution\n",
    "flag = True\n",
    "for i in range(0, len(s)//2):\n",
    "    if s[i] != s[len(s)-i-1]:\n",
    "        flag = False\n",
    "if flag:\n",
    "    print('Palindrome')\n",
    "else:\n",
    "    print('Not')"
   ]
  },
  {
   "cell_type": "code",
   "execution_count": 18,
   "metadata": {},
   "outputs": [
    {
     "name": "stdout",
     "output_type": "stream",
     "text": [
      "['The', ' cat', ' is', ' on', ' the', ' wall']\n"
     ]
    }
   ],
   "source": [
    "# Write a program to split the string in array without split()\n",
    "s = 'The cat is on the wall'\n",
    "l = []\n",
    "temp = ''\n",
    "for i in s:\n",
    "    if i != ' ':\n",
    "        temp += i\n",
    "    else:\n",
    "        l.append(temp)\n",
    "        temp = ' '\n",
    "l.append(temp)\n",
    "print(l)"
   ]
  },
  {
   "cell_type": "code",
   "execution_count": 36,
   "metadata": {},
   "outputs": [
    {
     "name": "stdout",
     "output_type": "stream",
     "text": [
      "The Cat Is On The Wall "
     ]
    }
   ],
   "source": [
    "# Write a program to to conver a string to the title case without using title()\n",
    "s = 'The cAT is on tHE waLl'\n",
    "for i in s.split():\n",
    "    print(i[0].upper() + i[1:].lower(), end=' ')"
   ]
  },
  {
   "cell_type": "code",
   "execution_count": 42,
   "metadata": {},
   "outputs": [],
   "source": [
    "# Write the program to convert an integer to a string\n",
    "a = 100\n"
   ]
  },
  {
   "cell_type": "code",
   "execution_count": null,
   "metadata": {},
   "outputs": [],
   "source": []
  }
 ],
 "metadata": {
  "kernelspec": {
   "display_name": "base",
   "language": "python",
   "name": "python3"
  },
  "language_info": {
   "codemirror_mode": {
    "name": "ipython",
    "version": 3
   },
   "file_extension": ".py",
   "mimetype": "text/x-python",
   "name": "python",
   "nbconvert_exporter": "python",
   "pygments_lexer": "ipython3",
   "version": "3.11.5"
  }
 },
 "nbformat": 4,
 "nbformat_minor": 2
}
