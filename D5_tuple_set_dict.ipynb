{
 "cells": [
  {
   "cell_type": "markdown",
   "metadata": {},
   "source": [
    "## Tuples"
   ]
  },
  {
   "cell_type": "code",
   "execution_count": null,
   "metadata": {},
   "outputs": [],
   "source": [
    "# Tuple is similar to a list. The difference is, changing the elements of tuples not possible\n",
    "# Tuple is immutable list\n",
    "# Tuples are faster than list because of immutability\n",
    "# Tuples consumes less memory than list\n"
   ]
  },
  {
   "cell_type": "code",
   "execution_count": 4,
   "metadata": {},
   "outputs": [
    {
     "name": "stdout",
     "output_type": "stream",
     "text": [
      "()\n",
      "(1,)\n",
      "('h', 'e', 'l', 'l', 'o')\n"
     ]
    }
   ],
   "source": [
    "# Creating a Tuple\n",
    "t1 = ()\n",
    "print(t1)\n",
    "\n",
    "# Creating a tuple with single element\n",
    "# t2 = (1) # this is treated as a single item not tuple\n",
    "t2 = (1,) # this is a tuple\n",
    "print(t2)\n",
    "\n",
    "# Creating a tuple using type conversion\n",
    "t3 = tuple('hello')\n",
    "print(t3)"
   ]
  },
  {
   "cell_type": "code",
   "execution_count": 5,
   "metadata": {},
   "outputs": [
    {
     "name": "stdout",
     "output_type": "stream",
     "text": [
      "1\n",
      "5\n",
      "(2, 3, 4)\n",
      "(5, 4, 3, 2, 1)\n"
     ]
    }
   ],
   "source": [
    "# Accessing the items from tuple\n",
    "t = (1, 2, 3, 4, 5)\n",
    "\n",
    "# Indexing\n",
    "print(t[0])\n",
    "print(t[-1])\n",
    "\n",
    "# Slicing\n",
    "print(t[1:4])\n",
    "print(t[::-1])"
   ]
  },
  {
   "cell_type": "code",
   "execution_count": 6,
   "metadata": {},
   "outputs": [],
   "source": [
    "# Editing the tuple\n",
    "# Tuples cannot be edited\n",
    "# Not even Adding items\n",
    "# Can delete whole tuple, but not some elements"
   ]
  },
  {
   "cell_type": "code",
   "execution_count": 7,
   "metadata": {},
   "outputs": [],
   "source": [
    "# Operations on the tuple\n",
    "# arithmetic (+, x)\n",
    "# membership (in, not in)\n",
    "# iteration"
   ]
  },
  {
   "cell_type": "code",
   "execution_count": 8,
   "metadata": {},
   "outputs": [],
   "source": [
    "# Tuple Functions\n",
    "# Common function - len(), min(), max(), sorted(), sum()\n",
    "# Tuple Specific - count(), index()"
   ]
  },
  {
   "cell_type": "code",
   "execution_count": 1,
   "metadata": {},
   "outputs": [
    {
     "name": "stdout",
     "output_type": "stream",
     "text": [
      "1 2 3\n",
      "1 2 3 4 5\n",
      "3 4 5\n"
     ]
    }
   ],
   "source": [
    "# Tuple unpacking\n",
    "a, b, c = (1, 2, 3)\n",
    "print(a, b, c)\n",
    "\n",
    "a, b, *others = (1, 2, 3, 4, 5)\n",
    "print(a, b, *others)\n",
    "print(*others)"
   ]
  },
  {
   "cell_type": "markdown",
   "metadata": {},
   "source": [
    "## Sets"
   ]
  },
  {
   "cell_type": "code",
   "execution_count": 1,
   "metadata": {},
   "outputs": [],
   "source": [
    "# A set is unordered collection of elements. Each element in the set is unique.\n",
    "# It is used to perform mathematical operations like union, intersection, symmetric difference, etc.\n",
    "# Characterstics:\n",
    "    # Unordered  -> {1,2,3} is equal to {3,1,2}\n",
    "    # Mutable\n",
    "    # No Duplicates\n",
    "    # Can't contain mutable data types (so, 2D set is not possible)"
   ]
  },
  {
   "cell_type": "markdown",
   "metadata": {},
   "source": [
    "##### 1. Creating a set"
   ]
  },
  {
   "cell_type": "code",
   "execution_count": 5,
   "metadata": {},
   "outputs": [
    {
     "name": "stdout",
     "output_type": "stream",
     "text": [
      "<class 'dict'>\n",
      "set()\n",
      "<class 'set'>\n",
      "{1, 2, 3, 4}\n"
     ]
    }
   ],
   "source": [
    "# empty\n",
    "s = {}   # this creates dictionary, bcuz of same syntax\n",
    "print(type(s))\n",
    "\n",
    "s = set({})  # empty set\n",
    "print(type(s))\n",
    "\n",
    "print(s)"
   ]
  },
  {
   "cell_type": "code",
   "execution_count": 6,
   "metadata": {},
   "outputs": [
    {
     "name": "stdout",
     "output_type": "stream",
     "text": [
      "{1, 2, 3, 4}\n"
     ]
    }
   ],
   "source": [
    "# 1D and 2D\n",
    "s = {1,3,4,2}\n",
    "print(s)\n",
    "# s = {1,3,4,{2,6}}  -> not possible"
   ]
  },
  {
   "cell_type": "code",
   "execution_count": 7,
   "metadata": {},
   "outputs": [
    {
     "name": "stdout",
     "output_type": "stream",
     "text": [
      "{1, 3.34, 'hello'}\n"
     ]
    }
   ],
   "source": [
    "# homo and hetro\n",
    "s = {1, 'hello', 3.34, True}\n",
    "print(s) # {1, 3.34, 'hello'}\n",
    "# here True is treated as 1, so becomes duplicate, not printed\n",
    "# Sets use hashing algorithm, so answer is unordered"
   ]
  },
  {
   "cell_type": "code",
   "execution_count": 8,
   "metadata": {},
   "outputs": [
    {
     "name": "stdout",
     "output_type": "stream",
     "text": [
      "{1, 2, 3, 5}\n"
     ]
    }
   ],
   "source": [
    "# using type conversion\n",
    "s = set([1,5,3,2])\n",
    "print(s)"
   ]
  },
  {
   "cell_type": "code",
   "execution_count": 10,
   "metadata": {},
   "outputs": [
    {
     "name": "stdout",
     "output_type": "stream",
     "text": [
      "{1, 2, 3, 5, 7, 8}\n"
     ]
    }
   ],
   "source": [
    "# duplicates not allowed\n",
    "s = {1,1,2,5,5,3,3,1,7,8,8}\n",
    "print(s)"
   ]
  },
  {
   "cell_type": "code",
   "execution_count": 12,
   "metadata": {},
   "outputs": [
    {
     "name": "stdout",
     "output_type": "stream",
     "text": [
      "{(5, 3, 2), 1, 4, 6}\n"
     ]
    }
   ],
   "source": [
    "# set can't have mutable items\n",
    "# s = {1, 6, 4, [5, 3, 2]}  --> Error - list is mutable\n",
    "# s = {1, 6, 4, {5, 3, 2}}  --> Error - set is mutable\n",
    "s = {1, 6, 4, (5, 3, 2)}  # --> Tuples are immutable, can be used\n",
    "print(s)"
   ]
  },
  {
   "cell_type": "code",
   "execution_count": 13,
   "metadata": {},
   "outputs": [],
   "source": [
    "# Accessing is not possible\n",
    "# Sets does not have indexes, positions are unkown\n",
    "# Editing is also not possible"
   ]
  },
  {
   "cell_type": "code",
   "execution_count": 15,
   "metadata": {},
   "outputs": [
    {
     "data": {
      "text/plain": [
       "{1, 2, 3, 4, 5, 8}"
      ]
     },
     "execution_count": 15,
     "metadata": {},
     "output_type": "execute_result"
    }
   ],
   "source": [
    "# Addint items\n",
    "s = {1, 2, 3, 4, 5}\n",
    "s.add(8)\n",
    "s"
   ]
  },
  {
   "cell_type": "code",
   "execution_count": 17,
   "metadata": {},
   "outputs": [
    {
     "data": {
      "text/plain": [
       "{1, 2, 3, 4, 5, 8, 11, 12, 13}"
      ]
     },
     "execution_count": 17,
     "metadata": {},
     "output_type": "execute_result"
    }
   ],
   "source": [
    "s.update([11, 12, 13]) # Adding multiple items\n",
    "s"
   ]
  },
  {
   "cell_type": "code",
   "execution_count": 26,
   "metadata": {},
   "outputs": [
    {
     "data": {
      "text/plain": [
       "set()"
      ]
     },
     "execution_count": 26,
     "metadata": {},
     "output_type": "execute_result"
    }
   ],
   "source": [
    "# Deleting items\n",
    "s = {1, 2, 3, 4, 5, 6, 7}\n",
    "# del s -> deletes everything\n",
    "\n",
    "# discard\n",
    "s.discard(3)\n",
    "\n",
    "# remove\n",
    "# s.remove(4) -> same as discard, but gives error is item not present\n",
    "\n",
    "# pop\n",
    "s.pop() # Randomly removes item\n",
    "\n",
    "# clear\n",
    "s.clear() # Makes the set empty\n",
    "s"
   ]
  },
  {
   "cell_type": "markdown",
   "metadata": {},
   "source": [
    "### Sets Operations"
   ]
  },
  {
   "cell_type": "code",
   "execution_count": 37,
   "metadata": {},
   "outputs": [
    {
     "name": "stdout",
     "output_type": "stream",
     "text": [
      "{1, 2, 3, 4, 5, 6, 7, 8}\n",
      "{4, 5}\n",
      "{1, 2, 3}\n",
      "{8, 6, 7}\n",
      "{1, 2, 3, 6, 7, 8}\n",
      "False\n",
      "True\n",
      "1\n",
      "2\n",
      "3\n",
      "4\n",
      "5\n"
     ]
    }
   ],
   "source": [
    "s1 = {1, 2, 3, 4, 5}\n",
    "s2 = {4, 5, 6, 7, 8}\n",
    "\n",
    "# Union (|)\n",
    "# s1.union(s2)\n",
    "print(s1 | s2)     # Prints both items once, no duplicates\n",
    "\n",
    "# Intersection (&)\n",
    "print(s1 & s2)     # Prints only common elements\n",
    "\n",
    "# Difference (-)\n",
    "print(s1 - s2)     # Prints items of s1 that are not present in s2\n",
    "print(s2 - s1)     # Prints items of s2 that are not present in s1\n",
    "\n",
    "# Symmetric difference (^)\n",
    "print(s1 ^ s2)     # Prints everything except common elements\n",
    "\n",
    "# Membership Test\n",
    "print(1 in s1 & s2) # False\n",
    "print(4 in s1 & s2) # True\n",
    "\n",
    "# Iteration\n",
    "for i in s1:\n",
    "    print(i)"
   ]
  },
  {
   "cell_type": "code",
   "execution_count": 38,
   "metadata": {},
   "outputs": [],
   "source": [
    "# Common function - len(), min(), max(), sorted(), sum()\n",
    "# sorted in list"
   ]
  },
  {
   "cell_type": "code",
   "execution_count": 39,
   "metadata": {},
   "outputs": [
    {
     "name": "stdout",
     "output_type": "stream",
     "text": [
      "{1, 2, 3, 4, 5, 6, 7, 8}\n",
      "{4, 5, 6, 7, 8}\n"
     ]
    }
   ],
   "source": [
    "# union update\n",
    "s1 = {1, 2, 3, 4, 5}\n",
    "s2 = {4, 5, 6, 7, 8}\n",
    "\n",
    "s1.update(s2)\n",
    "print(s1) # Updates whole set\n",
    "print(s2)"
   ]
  },
  {
   "cell_type": "code",
   "execution_count": 40,
   "metadata": {},
   "outputs": [
    {
     "name": "stdout",
     "output_type": "stream",
     "text": [
      "{4, 5, 6, 7, 8}\n",
      "{4, 5, 6, 7, 8}\n"
     ]
    }
   ],
   "source": [
    "# intersection_update\n",
    "# s1.intersection(s2)\n",
    "s1.intersection_update(s2)\n",
    "print(s1)\n",
    "print(s2)"
   ]
  },
  {
   "cell_type": "code",
   "execution_count": 43,
   "metadata": {},
   "outputs": [
    {
     "name": "stdout",
     "output_type": "stream",
     "text": [
      "{1, 2, 3}\n",
      "{4, 5, 6, 7, 8}\n"
     ]
    }
   ],
   "source": [
    "# difference / difference_update\n",
    "s1 = {1, 2, 3, 4, 5}\n",
    "s2 = {4, 5, 6, 7, 8}\n",
    "\n",
    "s1.difference_update(s2)\n",
    "print(s1)\n",
    "print(s2)"
   ]
  },
  {
   "cell_type": "code",
   "execution_count": 45,
   "metadata": {},
   "outputs": [
    {
     "name": "stdout",
     "output_type": "stream",
     "text": [
      "{1, 2, 3, 6, 7, 8}\n",
      "{4, 5, 6, 7, 8}\n"
     ]
    }
   ],
   "source": [
    "# symmetric_difference / symmetric_difference_update\n",
    "s1 = {1, 2, 3, 4, 5}\n",
    "s2 = {4, 5, 6, 7, 8}\n",
    "\n",
    "s1.symmetric_difference_update(s2)\n",
    "print(s1)\n",
    "print(s2)"
   ]
  },
  {
   "cell_type": "code",
   "execution_count": 49,
   "metadata": {},
   "outputs": [
    {
     "name": "stdout",
     "output_type": "stream",
     "text": [
      "True\n",
      "True\n",
      "True\n"
     ]
    }
   ],
   "source": [
    "# isdisjoint, issubset, issuperset\n",
    "s1 = {1, 2, 3, 4, 5}\n",
    "s2 = {6, 7, 8}\n",
    "print(s1.isdisjoint(s2)) # no common elements\n",
    "\n",
    "s1 = {1, 2, 3, 4, 5}\n",
    "s2 = {4, 5}\n",
    "print(s2.issubset(s1)) # s2 is subset of s1\n",
    "\n",
    "print(s1.issuperset(s2)) # s1 is superset of s2"
   ]
  },
  {
   "cell_type": "code",
   "execution_count": 50,
   "metadata": {},
   "outputs": [
    {
     "data": {
      "text/plain": [
       "{6, 7, 8}"
      ]
     },
     "execution_count": 50,
     "metadata": {},
     "output_type": "execute_result"
    }
   ],
   "source": [
    "# copy -> creates shallow copy, stored on different memory locations\n",
    "s1 = {6, 7, 8}\n",
    "s2 = s1.copy()\n",
    "s2"
   ]
  },
  {
   "cell_type": "code",
   "execution_count": 52,
   "metadata": {},
   "outputs": [
    {
     "data": {
      "text/plain": [
       "frozenset({1, 2, 3, 4})"
      ]
     },
     "execution_count": 52,
     "metadata": {},
     "output_type": "execute_result"
    }
   ],
   "source": [
    "# Frozen set - cannot add, delete\n",
    "fs = frozenset([1, 2, 3, 4])\n",
    "fs"
   ]
  },
  {
   "cell_type": "code",
   "execution_count": 55,
   "metadata": {},
   "outputs": [
    {
     "data": {
      "text/plain": [
       "{4, 16, 36, 64, 100}"
      ]
     },
     "execution_count": 55,
     "metadata": {},
     "output_type": "execute_result"
    }
   ],
   "source": [
    "# Set Comprehension\n",
    "{i*i for i in range(1, 11) if i%2==0}"
   ]
  },
  {
   "cell_type": "markdown",
   "metadata": {},
   "source": [
    "## Dictionary"
   ]
  },
  {
   "cell_type": "code",
   "execution_count": 15,
   "metadata": {},
   "outputs": [
    {
     "data": {
      "text/plain": [
       "{'name': 'Dev', 'age': 22, 'gender': 'male'}"
      ]
     },
     "execution_count": 15,
     "metadata": {},
     "output_type": "execute_result"
    }
   ],
   "source": [
    "# Dictionary in Python is a collection of Key-value pairs\n",
    "# Characteristics\n",
    "    # Mutable\n",
    "    # Indexing has no meaning\n",
    "    # Keys can't be duplicated\n",
    "    # Keys can't be mutable items -> Keys can't be list, sets, or dictionaries\n",
    "\n",
    "d1 = {'name':'Dev', 'age':22, 'gender':'male'}\n",
    "d1"
   ]
  },
  {
   "cell_type": "markdown",
   "metadata": {},
   "source": [
    "##### Creating a dictionary"
   ]
  },
  {
   "cell_type": "code",
   "execution_count": 16,
   "metadata": {},
   "outputs": [
    {
     "name": "stdout",
     "output_type": "stream",
     "text": [
      "{}\n",
      "{'city': 'Pune', 'state': 'Maharashtra'}\n",
      "{(1, 2, 3): 1, 'color': 'blue'}\n",
      "{'name': 'Dev', 'age': 22, 'address': {'state': 'Maharashtra', 'city': 'Pune'}}\n"
     ]
    }
   ],
   "source": [
    "# empty dictionary\n",
    "d = {}\n",
    "print(d)\n",
    "\n",
    "# 1D dictionary\n",
    "d1 = {'city':'Pune', 'state':'Maharashtra'}\n",
    "print(d1)\n",
    "\n",
    "# with mixed keys\n",
    "d2 = {(1,2,3):1, 'color':'blue'}  # tuple is allowed as key, as it is immutable\n",
    "print(d2)\n",
    "\n",
    "# 2D dictionary\n",
    "d3 = {\n",
    "    'name':'Dev',\n",
    "    'age':22,\n",
    "    'address':{\n",
    "        'state':'Maharashtra',\n",
    "        'city':'Pune'\n",
    "        }\n",
    "    }\n",
    "print(d3)\n",
    "\n",
    "# using sequence and dict function\n",
    "# d4 = dict([(1, 2), ('name', 'dev'), (2, 3), ('digit', 456.645)])  # List of tuples converted to dictionary\n",
    "# print(d4)\n"
   ]
  },
  {
   "cell_type": "code",
   "execution_count": 35,
   "metadata": {},
   "outputs": [
    {
     "name": "stdout",
     "output_type": "stream",
     "text": [
      "Dev\n",
      "22\n",
      "Pune\n"
     ]
    }
   ],
   "source": [
    "# Accessing the dictionary\n",
    "my_dict = {\n",
    "    'name':'Dev',\n",
    "    'age':22,\n",
    "    'address':{\n",
    "        'state':'Maharashtra',\n",
    "        'city':'Pune'\n",
    "    }\n",
    "}\n",
    "# Two ways to access\n",
    "print(my_dict['name'])\n",
    "print(my_dict.get('age'))\n",
    "\n",
    "# Accessing 2D dictionary\n",
    "print(my_dict['address']['city'])"
   ]
  },
  {
   "cell_type": "code",
   "execution_count": 21,
   "metadata": {},
   "outputs": [
    {
     "name": "stdout",
     "output_type": "stream",
     "text": [
      "{'city': 'Pune', 'state': 'Maharashtra', 'country': 'India'}\n"
     ]
    }
   ],
   "source": [
    "# Adding key-value pair\n",
    "d1 = {'city':'Pune', 'state':'Maharashtra'}\n",
    "d1['country'] = 'India'\n",
    "print(d1)"
   ]
  },
  {
   "cell_type": "code",
   "execution_count": 34,
   "metadata": {},
   "outputs": [
    {
     "name": "stdout",
     "output_type": "stream",
     "text": [
      "{'name': 'Jack', 'age': 35, 'height': 175, 'gender': 'male', 'language': 'English', 'address': {'city': 'New York', 'country': 'United States', 'code': 456123}}\n",
      "{'name': 'Jack', 'age': 35, 'height': 175, 'gender': 'male', 'language': 'English'}\n",
      "{'name': 'Jack', 'age': 35, 'gender': 'male', 'language': 'English'}\n",
      "{}\n"
     ]
    }
   ],
   "source": [
    "# Removing key-value pair\n",
    "d = {\n",
    "    'name':'Jack',\n",
    "    'age':35,\n",
    "    'height':175,\n",
    "    'weight':70.2,\n",
    "    'gender':'male',\n",
    "    'language':'English',\n",
    "    'address':{\n",
    "        'city':'New York',\n",
    "        'country':'United States',\n",
    "        'code':456123\n",
    "    }\n",
    "}\n",
    "\n",
    "# 1. pop\n",
    "d.pop('weight')\n",
    "print(d)\n",
    "\n",
    "# 2. popitem\n",
    "d.popitem() # deletes last key-value pair\n",
    "print(d)\n",
    "\n",
    "# 3. del\n",
    "# del d     # deletes the dict\n",
    "del d['height'] # same as d.pop()\n",
    "print(d)  \n",
    "\n",
    "# 4. clear\n",
    "d.clear()\n",
    "print(d)"
   ]
  },
  {
   "cell_type": "code",
   "execution_count": 37,
   "metadata": {},
   "outputs": [
    {
     "data": {
      "text/plain": [
       "{'name': 'Jack',\n",
       " 'age': 40,\n",
       " 'height': 175,\n",
       " 'weight': 70.2,\n",
       " 'gender': 'male',\n",
       " 'language': 'English',\n",
       " 'address': {'city': 'Washington', 'country': 'United States', 'code': 456123}}"
      ]
     },
     "execution_count": 37,
     "metadata": {},
     "output_type": "execute_result"
    }
   ],
   "source": [
    "# Editing key-value pair\n",
    "d = {\n",
    "    'name':'Jack',\n",
    "    'age':35,\n",
    "    'height':175,\n",
    "    'weight':70.2,\n",
    "    'gender':'male',\n",
    "    'language':'English',\n",
    "    'address':{\n",
    "        'city':'New York',\n",
    "        'country':'United States',\n",
    "        'code':456123\n",
    "    }\n",
    "}\n",
    "\n",
    "d['age'] = 40\n",
    "d['address']['city'] = 'Washington'\n",
    "d"
   ]
  },
  {
   "cell_type": "markdown",
   "metadata": {},
   "source": [
    "##### Dictionary Operations"
   ]
  },
  {
   "cell_type": "code",
   "execution_count": 44,
   "metadata": {},
   "outputs": [
    {
     "name": "stdout",
     "output_type": "stream",
     "text": [
      "True\n",
      "name Jack\n",
      "age 40\n",
      "height 175\n",
      "weight 70.2\n",
      "gender male\n",
      "language English\n",
      "address {'city': 'Washington', 'country': 'United States', 'code': 456123}\n"
     ]
    }
   ],
   "source": [
    "# Membership\n",
    "print('name' in d) # works only on keys\n",
    "\n",
    "# Iteration\n",
    "for i in d:\n",
    "    print(i, d[i])"
   ]
  },
  {
   "cell_type": "markdown",
   "metadata": {},
   "source": [
    "##### Dictionary Functions"
   ]
  },
  {
   "cell_type": "code",
   "execution_count": 50,
   "metadata": {},
   "outputs": [
    {
     "data": {
      "text/plain": [
       "'weight'"
      ]
     },
     "execution_count": 50,
     "metadata": {},
     "output_type": "execute_result"
    }
   ],
   "source": [
    "#len/sorted/min/max\n",
    "len(d) # gives number of key-value pairs\n",
    "sorted(d) # gives sorted keys in list\n",
    "# min/max on the basis of ASCII\n",
    "min(d)\n",
    "max(d)"
   ]
  },
  {
   "cell_type": "code",
   "execution_count": 52,
   "metadata": {},
   "outputs": [
    {
     "name": "stdout",
     "output_type": "stream",
     "text": [
      "dict_items([('name', 'Jack'), ('age', 40), ('height', 175), ('weight', 70.2), ('gender', 'male'), ('language', 'English'), ('address', {'city': 'Washington', 'country': 'United States', 'code': 456123})])\n",
      "dict_keys(['name', 'age', 'height', 'weight', 'gender', 'language', 'address'])\n",
      "dict_values(['Jack', 40, 175, 70.2, 'male', 'English', {'city': 'Washington', 'country': 'United States', 'code': 456123}])\n"
     ]
    }
   ],
   "source": [
    "# items/keys/values\n",
    "print(d.items()) # prints all items in list of tuples format\n",
    "print(d.keys()) # prints all keys\n",
    "print(d.values()) # prints all values"
   ]
  },
  {
   "cell_type": "code",
   "execution_count": 54,
   "metadata": {},
   "outputs": [
    {
     "name": "stdout",
     "output_type": "stream",
     "text": [
      "{1: 2, 3: 4, 5: 8, 9: 10}\n"
     ]
    }
   ],
   "source": [
    "# update\n",
    "d1 = {1:2, 3:4, 5:6}\n",
    "d2 = {5:8, 9:10}\n",
    "d1.update(d2)\n",
    "print(d1)"
   ]
  },
  {
   "cell_type": "markdown",
   "metadata": {},
   "source": [
    "##### Dictionary Comprehension"
   ]
  },
  {
   "cell_type": "markdown",
   "metadata": {},
   "source": [
    "##### { key : value for vars in iterable }"
   ]
  },
  {
   "cell_type": "code",
   "execution_count": 59,
   "metadata": {},
   "outputs": [
    {
     "data": {
      "text/plain": [
       "{1: 1, 2: 4, 3: 9, 4: 16, 5: 25, 6: 36, 7: 49, 8: 64, 9: 81, 10: 100}"
      ]
     },
     "execution_count": 59,
     "metadata": {},
     "output_type": "execute_result"
    }
   ],
   "source": [
    "# print 1st 10 numbers and their squares\n",
    "{i:i**2 for i in range(1, 11)}"
   ]
  },
  {
   "cell_type": "code",
   "execution_count": 61,
   "metadata": {},
   "outputs": [
    {
     "data": {
      "text/plain": [
       "{'delhi': 620.0, 'mumbai': 1240.0, 'pune': 1860.0}"
      ]
     },
     "execution_count": 61,
     "metadata": {},
     "output_type": "execute_result"
    }
   ],
   "source": [
    "# using existing dict\n",
    "distances = {'delhi':1000, 'mumbai':2000, 'pune':3000}\n",
    "{ key : value*0.62 for (key, value) in distances.items() }"
   ]
  },
  {
   "cell_type": "code",
   "execution_count": 62,
   "metadata": {},
   "outputs": [
    {
     "data": {
      "text/plain": [
       "{'Sunday': 30.5,\n",
       " 'Monday': 32.6,\n",
       " 'Tuesday': 31.8,\n",
       " 'Wednesday': 33.4,\n",
       " 'Thursday': 29.8,\n",
       " 'Friday': 30.2,\n",
       " 'Saturday': 29.9}"
      ]
     },
     "execution_count": 62,
     "metadata": {},
     "output_type": "execute_result"
    }
   ],
   "source": [
    "# using zip\n",
    "days = ['Sunday', 'Monday', 'Tuesday', 'Wednesday', 'Thursday', 'Friday', 'Saturday']\n",
    "temp_c = [30.5, 32.6, 31.8, 33.4, 29.8, 30.2, 29.9]\n",
    "\n",
    "{i : j for (i, j) in zip(days, temp_c)}"
   ]
  },
  {
   "cell_type": "code",
   "execution_count": 65,
   "metadata": {},
   "outputs": [
    {
     "data": {
      "text/plain": [
       "{'phone': 10, 'charger': 32}"
      ]
     },
     "execution_count": 65,
     "metadata": {},
     "output_type": "execute_result"
    }
   ],
   "source": [
    "# using if condition\n",
    "products = {'phone':10, 'laptop':0, 'charger':32, 'tablet':0}\n",
    "{key : value for (key, value) in products.items() if value > 0}"
   ]
  },
  {
   "cell_type": "code",
   "execution_count": 67,
   "metadata": {},
   "outputs": [
    {
     "data": {
      "text/plain": [
       "{2: {1: 2, 2: 4, 3: 6, 4: 8, 5: 10, 6: 12, 7: 14, 8: 16, 9: 18, 10: 20},\n",
       " 3: {1: 3, 2: 6, 3: 9, 4: 12, 5: 15, 6: 18, 7: 21, 8: 24, 9: 27, 10: 30},\n",
       " 4: {1: 4, 2: 8, 3: 12, 4: 16, 5: 20, 6: 24, 7: 28, 8: 32, 9: 36, 10: 40}}"
      ]
     },
     "execution_count": 67,
     "metadata": {},
     "output_type": "execute_result"
    }
   ],
   "source": [
    "# Nested Comprehension\n",
    "# print tables of number from 2 to 4\n",
    "\n",
    "{i: {j:i*j for j in range(1, 11)}  for i in range(2, 5)}"
   ]
  },
  {
   "cell_type": "code",
   "execution_count": null,
   "metadata": {},
   "outputs": [],
   "source": []
  }
 ],
 "metadata": {
  "kernelspec": {
   "display_name": "base",
   "language": "python",
   "name": "python3"
  },
  "language_info": {
   "codemirror_mode": {
    "name": "ipython",
    "version": 3
   },
   "file_extension": ".py",
   "mimetype": "text/x-python",
   "name": "python",
   "nbconvert_exporter": "python",
   "pygments_lexer": "ipython3",
   "version": "3.11.5"
  }
 },
 "nbformat": 4,
 "nbformat_minor": 2
}
