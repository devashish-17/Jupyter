{
 "cells": [
  {
   "cell_type": "markdown",
   "metadata": {},
   "source": [
    "## File Handling"
   ]
  },
  {
   "cell_type": "markdown",
   "metadata": {},
   "source": [
    "##### write/writeline and Append"
   ]
  },
  {
   "cell_type": "code",
   "execution_count": 1,
   "metadata": {},
   "outputs": [],
   "source": [
    "# Case 1: File is not created\n",
    "f = open('sample.txt', 'w')\n",
    "f.write('Hello Dev')\n",
    "f.close()\n",
    "# f.write('Hello ')  -> this will not work(file is closed)"
   ]
  },
  {
   "cell_type": "code",
   "execution_count": 3,
   "metadata": {},
   "outputs": [],
   "source": [
    "# Case 2: File is already present (replace old text)\n",
    "f = open('sample.txt', 'w')\n",
    "f.write('Hello world ')\n",
    "f.write('Hello world2')\n",
    "f.close()"
   ]
  },
  {
   "cell_type": "code",
   "execution_count": 6,
   "metadata": {},
   "outputs": [],
   "source": [
    "# Case 3: File is already present (without replace old text)\n",
    "f = open('sample.txt', 'a')\n",
    "f.write('\\nadding more text')\n",
    "f.close()"
   ]
  },
  {
   "cell_type": "code",
   "execution_count": 7,
   "metadata": {},
   "outputs": [],
   "source": [
    "# write multiple lines\n",
    "l1 = ['\\n\\nThe', '\\ncat', '\\nis', '\\non', '\\nthe', '\\nbat\\n\\n']\n",
    "f = open('sample.txt', 'a')\n",
    "f.writelines(l1)\n",
    "f.close()"
   ]
  },
  {
   "cell_type": "markdown",
   "metadata": {},
   "source": [
    "##### read/readline"
   ]
  },
  {
   "cell_type": "code",
   "execution_count": 8,
   "metadata": {},
   "outputs": [
    {
     "name": "stdout",
     "output_type": "stream",
     "text": [
      "Hello world Hello world2\n",
      "adding more text\n",
      "\n",
      "The\n",
      "cat\n",
      "is\n",
      "on\n",
      "the\n",
      "bat\n",
      "\n",
      "\n"
     ]
    }
   ],
   "source": [
    "f = open('sample.txt', 'r')\n",
    "s = f.read()\n",
    "print(s)\n",
    "f.close()"
   ]
  },
  {
   "cell_type": "code",
   "execution_count": 9,
   "metadata": {},
   "outputs": [
    {
     "name": "stdout",
     "output_type": "stream",
     "text": [
      "Hello worl\n"
     ]
    }
   ],
   "source": [
    "# reading upto n characters\n",
    "f = open('sample.txt', 'r')\n",
    "s = f.read(10)\n",
    "print(s)\n",
    "f.close()"
   ]
  },
  {
   "cell_type": "code",
   "execution_count": 10,
   "metadata": {},
   "outputs": [
    {
     "name": "stdout",
     "output_type": "stream",
     "text": [
      "Hello world Hello world2\n",
      "\n",
      "adding more text\n",
      "\n"
     ]
    }
   ],
   "source": [
    "# readline() -> read line by line\n",
    "f = open('sample.txt', 'r')\n",
    "print(f.readline())\n",
    "print(f.readline())\n",
    "f.close()"
   ]
  },
  {
   "cell_type": "code",
   "execution_count": 11,
   "metadata": {},
   "outputs": [
    {
     "name": "stdout",
     "output_type": "stream",
     "text": [
      "Hello world Hello world2\n",
      "adding more text\n",
      "\n",
      "The\n",
      "cat\n",
      "is\n",
      "on\n",
      "the\n",
      "bat\n",
      "\n"
     ]
    }
   ],
   "source": [
    "# reading entire using readline\n",
    "f = open('sample.txt', 'r')\n",
    "\n",
    "while True:\n",
    "    data = f.readline()\n",
    "    if data == '':\n",
    "        break\n",
    "    else:\n",
    "        print(data, end='')\n",
    "f.close()"
   ]
  },
  {
   "cell_type": "markdown",
   "metadata": {},
   "source": [
    "#### Using Context Manager (with)"
   ]
  },
  {
   "cell_type": "code",
   "execution_count": 12,
   "metadata": {},
   "outputs": [],
   "source": [
    "# Closing file using 'with'\n",
    "with open('sample.txt', 'a') as f:\n",
    "    f.write('Great Programmer')"
   ]
  },
  {
   "cell_type": "code",
   "execution_count": 13,
   "metadata": {},
   "outputs": [
    {
     "name": "stdout",
     "output_type": "stream",
     "text": [
      "Hello world Hello world2\n",
      "adding more text\n",
      "\n",
      "The\n",
      "cat\n",
      "is\n",
      "on\n",
      "the\n",
      "bat\n",
      "\n",
      "Great Programmer\n"
     ]
    }
   ],
   "source": [
    "# reading files using 'with'\n",
    "with open('sample.txt', 'r') as f:\n",
    "    print(f.read())"
   ]
  },
  {
   "cell_type": "code",
   "execution_count": 15,
   "metadata": {},
   "outputs": [
    {
     "name": "stdout",
     "output_type": "stream",
     "text": [
      "Hello worl\n",
      "d Hello wo\n"
     ]
    }
   ],
   "source": [
    "# moving within a file -> 10 char then 10 char\n",
    "with open('sample.txt', 'r') as f:\n",
    "    print(f.read(10))\n",
    "    print(f.read(10))"
   ]
  },
  {
   "cell_type": "code",
   "execution_count": 17,
   "metadata": {},
   "outputs": [],
   "source": [
    "# benefit -> to load a big file in memory\n",
    "big_L = ['hello world ' for i in range(1000)] # big file -> hello world written 1000 times\n",
    "\n",
    "with open('big.txt', 'w') as f:\n",
    "    f.writelines(big_L)"
   ]
  },
  {
   "cell_type": "code",
   "execution_count": 18,
   "metadata": {},
   "outputs": [],
   "source": [
    "# loading big file on buffer\n",
    "# with open('big.txt', 'r') as f:\n",
    "#     chunk_size = 100\n",
    "#     while len(r.read(chunk_size)) > 0:\n",
    "#         print(f.read(chunk_size))\n",
    "#         f.read(chunk_size)\n",
    "\n",
    "# Loads whole file in chunks of 100 characters"
   ]
  },
  {
   "cell_type": "code",
   "execution_count": 21,
   "metadata": {},
   "outputs": [
    {
     "name": "stdout",
     "output_type": "stream",
     "text": [
      "Hello worl\n",
      "10\n",
      "ello world\n"
     ]
    }
   ],
   "source": [
    "# seek and tell function\n",
    "with open('sample.txt', 'r') as f:\n",
    "    print(f.read(10))\n",
    "    \n",
    "    print(f.tell()) # tells how much content is processes\n",
    "    \n",
    "    f.seek(13) # to change the position of the cursor\n",
    "    \n",
    "    print(f.read(10))"
   ]
  },
  {
   "cell_type": "code",
   "execution_count": 23,
   "metadata": {},
   "outputs": [],
   "source": [
    "# seek during write\n",
    "with open('sample.txt', 'w') as f:\n",
    "    f.write('removed old text - hello')\n",
    "    f.seek(0)\n",
    "    \n",
    "    f.write('x')\n",
    "    # xemoved old text - hello\n",
    "    \n",
    "    f.write('xa')\n",
    "    # xxaoved old text - hello"
   ]
  },
  {
   "cell_type": "markdown",
   "metadata": {},
   "source": [
    "#### Working with Binary Files"
   ]
  },
  {
   "cell_type": "code",
   "execution_count": 24,
   "metadata": {},
   "outputs": [],
   "source": [
    "# Cannot access binary files directly, so copy is created\n",
    "\n",
    "with open('raigad.jpg', 'rb') as f:\n",
    "    with open('raigad_copy.jpg', 'wb') as wf:\n",
    "        wf.write(f.read())"
   ]
  },
  {
   "cell_type": "code",
   "execution_count": 25,
   "metadata": {},
   "outputs": [],
   "source": [
    "# Working with other data types\n",
    "# Usually string can be added to the file,\n",
    "# but to add other data types -\n",
    "# It needs to be converted to a string\n",
    "\n",
    "with open('sample.txt', 'w') as f:\n",
    "    f.write('123456')"
   ]
  },
  {
   "cell_type": "code",
   "execution_count": 26,
   "metadata": {},
   "outputs": [],
   "source": [
    "# same with dictionary, converted to a string\n",
    "d = {\n",
    "    'name':'dev',\n",
    "    'age':22,\n",
    "    'gender':'male'\n",
    "}\n",
    "with open('sample.txt', 'w') as f:\n",
    "    f.write(str(d))"
   ]
  },
  {
   "cell_type": "code",
   "execution_count": 28,
   "metadata": {},
   "outputs": [
    {
     "name": "stdout",
     "output_type": "stream",
     "text": [
      "{'name': 'dev', 'age': 22, 'gender': 'male'}\n",
      "<class 'str'>\n"
     ]
    }
   ],
   "source": [
    "# reading dictionary as string\n",
    "# once converted to string, can't be converted back to dictionary\n",
    "with open('sample.txt', 'r') as f:\n",
    "    print(f.read())\n",
    "    print(type(f.read()))\n",
    "    \n",
    "# But this can be solved using Serialization and Deserialization"
   ]
  },
  {
   "cell_type": "markdown",
   "metadata": {},
   "source": [
    "## Serialization and Deserialization"
   ]
  },
  {
   "cell_type": "code",
   "execution_count": 29,
   "metadata": {},
   "outputs": [],
   "source": [
    "# Serialization - process of converting python data types to JSON format \n",
    "# Deserialization - process of converting JSON to python data types"
   ]
  },
  {
   "cell_type": "code",
   "execution_count": 31,
   "metadata": {},
   "outputs": [],
   "source": [
    "# Serialization using json module\n",
    "# List\n",
    "import json\n",
    "\n",
    "L = [1,2,3,4]\n",
    "\n",
    "with open('data.json', 'w') as f:\n",
    "    json.dump(L, f)\n"
   ]
  },
  {
   "cell_type": "code",
   "execution_count": 37,
   "metadata": {},
   "outputs": [],
   "source": [
    "# Dictionary\n",
    "import json\n",
    "\n",
    "d = {\n",
    "    'name':'dev',\n",
    "    'age':22,\n",
    "    'gender':'male'\n",
    "}\n",
    "\n",
    "with open('data.json', 'w') as f:\n",
    "    json.dump(d, f, indent=4)"
   ]
  },
  {
   "cell_type": "code",
   "execution_count": 38,
   "metadata": {},
   "outputs": [
    {
     "name": "stdout",
     "output_type": "stream",
     "text": [
      "{'name': 'dev', 'age': 22, 'gender': 'male'}\n",
      "<class 'dict'>\n"
     ]
    }
   ],
   "source": [
    "# deserialization\n",
    "# Dictionary\n",
    "import json\n",
    "\n",
    "with open('data.json', 'r') as f:\n",
    "    d = json.load(f)\n",
    "    print(d)\n",
    "    print(type(d))"
   ]
  },
  {
   "cell_type": "code",
   "execution_count": 39,
   "metadata": {},
   "outputs": [],
   "source": [
    "# Serialization and Deserialization tuple\n",
    "# tuple is always stored as List\n",
    "# During Deserialization, convert to Tuple\n",
    "# code same as list, just tuple input"
   ]
  },
  {
   "cell_type": "markdown",
   "metadata": {},
   "source": [
    "#### Serialization and Deserialization custom objects - user-defined class"
   ]
  },
  {
   "cell_type": "code",
   "execution_count": 40,
   "metadata": {},
   "outputs": [],
   "source": [
    "class Person:\n",
    "    def __init__(self, name, age, gender):\n",
    "        self.name = name\n",
    "        self.age = age\n",
    "        self.gender = gender\n",
    "        \n",
    "# format to be printed in this format -\n",
    "    # -> Dev age -> 22 gender -> male\n",
    "    \n",
    "# Cannot be done using regular Serialization and Deserialization code\n",
    "# because it has no idea about the format in which it is to be stored\n",
    "# unlike other data types whose format is known."
   ]
  },
  {
   "cell_type": "code",
   "execution_count": 41,
   "metadata": {},
   "outputs": [],
   "source": [
    "person = Person('Dev', 22, 'male')"
   ]
  },
  {
   "cell_type": "code",
   "execution_count": 42,
   "metadata": {},
   "outputs": [],
   "source": [
    "# As a string\n",
    "import json\n",
    "\n",
    "def show_object(person):\n",
    "    if isinstance(person, Person):\n",
    "        return \"name->{}, age->{}, gender->{}\".format(person.name, person.age, person.gender)\n",
    "\n",
    "with open('demo.json', 'w') as f:\n",
    "    json.dump(person, f, default=show_object)"
   ]
  },
  {
   "cell_type": "code",
   "execution_count": null,
   "metadata": {},
   "outputs": [],
   "source": []
  }
 ],
 "metadata": {
  "kernelspec": {
   "display_name": "base",
   "language": "python",
   "name": "python3"
  },
  "language_info": {
   "codemirror_mode": {
    "name": "ipython",
    "version": 3
   },
   "file_extension": ".py",
   "mimetype": "text/x-python",
   "name": "python",
   "nbconvert_exporter": "python",
   "pygments_lexer": "ipython3",
   "version": "3.11.5"
  }
 },
 "nbformat": 4,
 "nbformat_minor": 2
}
