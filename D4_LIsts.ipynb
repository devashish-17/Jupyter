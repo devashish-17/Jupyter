{
 "cells": [
  {
   "cell_type": "markdown",
   "metadata": {},
   "source": [
    "## Lists"
   ]
  },
  {
   "cell_type": "code",
   "execution_count": 5,
   "metadata": {},
   "outputs": [
    {
     "name": "stdout",
     "output_type": "stream",
     "text": [
      "[20, 'cat', 35.69, [1, 2, 3]]\n",
      "[1, 2, 3]\n",
      "2\n"
     ]
    }
   ],
   "source": [
    "l = [20, 'cat', 35.69, [1, 2, 3]]\n",
    "print(l)\n",
    "print(l[3])\n",
    "print(l[3][1])"
   ]
  },
  {
   "cell_type": "code",
   "execution_count": 10,
   "metadata": {},
   "outputs": [
    {
     "name": "stdout",
     "output_type": "stream",
     "text": [
      "2083436380096 140722483729192\n"
     ]
    }
   ],
   "source": [
    "'''\n",
    "    In array, int arr[50] = continuous memory blocks\n",
    "    In list, data randomly gets stored in memory, but list has continuous memory blocks, which contains addresses of each data.\n",
    "    Also known as Referectial Array\n",
    "'''\n",
    "l = [1, 2, 3]\n",
    "print(id(l), id(l[0])) # l[0] is first element but still has different memory address"
   ]
  },
  {
   "cell_type": "code",
   "execution_count": 11,
   "metadata": {},
   "outputs": [
    {
     "data": {
      "text/plain": [
       "True"
      ]
     },
     "execution_count": 11,
     "metadata": {},
     "output_type": "execute_result"
    }
   ],
   "source": [
    "'''\n",
    "Characteristics of a List\n",
    "    Ordered\n",
    "    Changable / Mutable\n",
    "    Hetrogeneous\n",
    "    Can have duplicate\n",
    "    are dynamic\n",
    "    can be nested\n",
    "    items can be accessed\n",
    "    can contain any kind of objects in Python\n",
    "'''"
   ]
  },
  {
   "cell_type": "markdown",
   "metadata": {},
   "source": [
    "##### 1. Accessing items a List"
   ]
  },
  {
   "cell_type": "code",
   "execution_count": 22,
   "metadata": {},
   "outputs": [
    {
     "name": "stdout",
     "output_type": "stream",
     "text": [
      "2\n",
      "[7, 8, 9, 10]\n",
      "10\n",
      "[3, 4, 5]\n",
      "[[7, 8, 9, 10], 6, 5, 4, 3, 2, 1]\n"
     ]
    }
   ],
   "source": [
    "l = [1, 2, 3, 4, 5, 6, [7, 8, 9, 10]]\n",
    "\n",
    "# +ve Indexing\n",
    "print(l[1])       # 2\n",
    "\n",
    "# -ve Indexing\n",
    "print(l[-1])      # [7, 8, 9, 10]\n",
    "print(l[-1][-1])  # 10\n",
    "\n",
    "# Slicing\n",
    "print(l[2:5])     # [3, 4, 5]\n",
    "print(l[::-1])     # [3, 4, 5]\n"
   ]
  },
  {
   "cell_type": "markdown",
   "metadata": {},
   "source": [
    "##### 2. Adding Items to List "
   ]
  },
  {
   "cell_type": "code",
   "execution_count": 24,
   "metadata": {},
   "outputs": [
    {
     "data": {
      "text/plain": [
       "[1, 2, 3, 4, 5, 6]"
      ]
     },
     "execution_count": 24,
     "metadata": {},
     "output_type": "execute_result"
    }
   ],
   "source": [
    "# Append - adding one item in the end\n",
    "l = [1, 2, 3, 4, 5]\n",
    "l.append(6)\n",
    "l"
   ]
  },
  {
   "cell_type": "code",
   "execution_count": 28,
   "metadata": {},
   "outputs": [
    {
     "data": {
      "text/plain": [
       "[1, 2, 3, 4, 5, 6, 7, 8, 6]"
      ]
     },
     "execution_count": 28,
     "metadata": {},
     "output_type": "execute_result"
    }
   ],
   "source": [
    "# extend - adding multiple items in the end\n",
    "l = [1, 2, 3, 4, 5]\n",
    "l.extend([6,7,8])\n",
    "l"
   ]
  },
  {
   "cell_type": "code",
   "execution_count": 29,
   "metadata": {},
   "outputs": [
    {
     "data": {
      "text/plain": [
       "[1, 2, 220, 3, 4, 5]"
      ]
     },
     "execution_count": 29,
     "metadata": {},
     "output_type": "execute_result"
    }
   ],
   "source": [
    "# insert - adding items at any position\n",
    "l = [1, 2, 3, 4, 5]\n",
    "l.insert(2, 220)\n",
    "l"
   ]
  },
  {
   "cell_type": "markdown",
   "metadata": {},
   "source": [
    "##### 3. Editing existing Items - Indexing and Slicing"
   ]
  },
  {
   "cell_type": "code",
   "execution_count": 30,
   "metadata": {},
   "outputs": [
    {
     "data": {
      "text/plain": [
       "[1, 2, 3, 4, 500]"
      ]
     },
     "execution_count": 30,
     "metadata": {},
     "output_type": "execute_result"
    }
   ],
   "source": [
    "l = [1, 2, 3, 4, 5]\n",
    "l[-1] = 500\n",
    "l"
   ]
  },
  {
   "cell_type": "code",
   "execution_count": 31,
   "metadata": {},
   "outputs": [
    {
     "data": {
      "text/plain": [
       "[1, 200, 300, 400, 5]"
      ]
     },
     "execution_count": 31,
     "metadata": {},
     "output_type": "execute_result"
    }
   ],
   "source": [
    "l = [1, 2, 3, 4, 5]\n",
    "l[1:4] = [200, 300, 400]\n",
    "l"
   ]
  },
  {
   "cell_type": "markdown",
   "metadata": {},
   "source": [
    "##### 4. Deleting the items from the list"
   ]
  },
  {
   "cell_type": "code",
   "execution_count": 35,
   "metadata": {},
   "outputs": [
    {
     "data": {
      "text/plain": [
       "[1, 5]"
      ]
     },
     "execution_count": 35,
     "metadata": {},
     "output_type": "execute_result"
    }
   ],
   "source": [
    "# del\n",
    "l = [1, 2, 3, 4, 5]\n",
    "# del l -> deletes whole list\n",
    "\n",
    "# with indexing\n",
    "# del l[-1]\n",
    "# l\n",
    "\n",
    "# with slicing\n",
    "del l[1:4]\n",
    "l\n"
   ]
  },
  {
   "cell_type": "code",
   "execution_count": 37,
   "metadata": {},
   "outputs": [
    {
     "data": {
      "text/plain": [
       "[1, 2, 4, 5]"
      ]
     },
     "execution_count": 37,
     "metadata": {},
     "output_type": "execute_result"
    }
   ],
   "source": [
    "# remove - search and remove\n",
    "l = [1, 2, 3, 4, 5]\n",
    "l.remove(3)\n",
    "l"
   ]
  },
  {
   "cell_type": "code",
   "execution_count": 40,
   "metadata": {},
   "outputs": [
    {
     "data": {
      "text/plain": [
       "[1, 2, 3, 5]"
      ]
     },
     "execution_count": 40,
     "metadata": {},
     "output_type": "execute_result"
    }
   ],
   "source": [
    "# pop - deletes last item if index is not given\n",
    "l = [1, 2, 3, 4, 5]\n",
    "l.pop(3)\n",
    "l"
   ]
  },
  {
   "cell_type": "code",
   "execution_count": 41,
   "metadata": {},
   "outputs": [
    {
     "data": {
      "text/plain": [
       "[]"
      ]
     },
     "execution_count": 41,
     "metadata": {},
     "output_type": "execute_result"
    }
   ],
   "source": [
    "# clear - do not deletes the list, makes it empty\n",
    "l = [1, 2, 3, 4, 5]\n",
    "l.clear()\n",
    "l"
   ]
  },
  {
   "cell_type": "markdown",
   "metadata": {},
   "source": [
    "## Operations on lists"
   ]
  },
  {
   "cell_type": "code",
   "execution_count": 42,
   "metadata": {},
   "outputs": [
    {
     "name": "stdout",
     "output_type": "stream",
     "text": [
      "[1, 2, 3, 4, 5, 5, 6, 7, 8, 9]\n"
     ]
    }
   ],
   "source": [
    "# Arithmetic operations - add, multiply\n",
    "l = [1, 2, 3, 4, 5]\n",
    "l1 = [5, 6, 7, 8, 9]\n",
    "print(l + l1) # Merging list\n",
    "\n",
    "print(l * 3) # Multiple"
   ]
  },
  {
   "cell_type": "code",
   "execution_count": 46,
   "metadata": {},
   "outputs": [
    {
     "name": "stdout",
     "output_type": "stream",
     "text": [
      "False\n",
      "True\n"
     ]
    }
   ],
   "source": [
    "# Membership Operator - in, not in\n",
    "l = [1, 2, 3, [4, 5]]\n",
    "print(5 in l)\n",
    "print([4,5] in l)"
   ]
  },
  {
   "cell_type": "code",
   "execution_count": 47,
   "metadata": {},
   "outputs": [
    {
     "name": "stdout",
     "output_type": "stream",
     "text": [
      "1\n",
      "2\n",
      "3\n",
      "[4, 5]\n"
     ]
    }
   ],
   "source": [
    "# Loops on lists\n",
    "l = [1, 2, 3, [4, 5]]\n",
    "for i in l:\n",
    "    print(i)"
   ]
  },
  {
   "cell_type": "markdown",
   "metadata": {},
   "source": [
    "## List Functions"
   ]
  },
  {
   "cell_type": "code",
   "execution_count": 86,
   "metadata": {},
   "outputs": [
    {
     "name": "stdout",
     "output_type": "stream",
     "text": [
      "5\n",
      "1\n",
      "7\n",
      "[1, 2, 5, 6, 7]\n",
      "[7, 6, 5, 2, 1]\n",
      "21\n"
     ]
    }
   ],
   "source": [
    "# Common functions - len, min, max, sorted, sum\n",
    "l = [7, 5, 2, 6, 1]\n",
    "print(len(l))\n",
    "print(min(l))\n",
    "print(max(l))\n",
    "print(sorted(l))\n",
    "print(sorted(l, reverse=True))\n",
    "print(sum(l))"
   ]
  },
  {
   "cell_type": "code",
   "execution_count": null,
   "metadata": {},
   "outputs": [],
   "source": [
    "# count - frequency of occurrence\n",
    "# index - position of first occurrence\n",
    "# reverse -->  This reverses the original list permanently (sorted is not permanent)\n",
    "# sort --> This sorts the list permanently (sorted is not permanent)\n",
    "# copy - Creates a copy of the list  -> l1 = l.copy()  -> shallow copy"
   ]
  },
  {
   "cell_type": "markdown",
   "metadata": {},
   "source": [
    "## List Comprehension"
   ]
  },
  {
   "cell_type": "code",
   "execution_count": 55,
   "metadata": {},
   "outputs": [],
   "source": [
    "# List comprehension provides a concise way of creating a lists\n",
    "# newList = [expression for i in iterable if (condition == True)]"
   ]
  },
  {
   "cell_type": "code",
   "execution_count": 57,
   "metadata": {},
   "outputs": [
    {
     "name": "stdout",
     "output_type": "stream",
     "text": [
      "[1, 2, 3, 4, 5, 6, 7, 8, 9, 10]\n",
      "[1, 2, 3, 4, 5, 6, 7, 8, 9, 10]\n"
     ]
    }
   ],
   "source": [
    "# add 1 to 10 numbers to a list\n",
    "l = []\n",
    "for i in range(1, 11):\n",
    "    l.append(i)\n",
    "print(l)\n",
    "#\n",
    "# ---- OR ----\n",
    "#\n",
    "l1 = [i for i in range(1, 11)]\n",
    "print(l1)"
   ]
  },
  {
   "cell_type": "code",
   "execution_count": 65,
   "metadata": {},
   "outputs": [
    {
     "name": "stdout",
     "output_type": "stream",
     "text": [
      "[-3, -6, -9, -12, -15]\n"
     ]
    }
   ],
   "source": [
    "# multiply with list\n",
    "l = [1, 2, 3, 4, 5]\n",
    "s = -3\n",
    "print([i*s for i in l])"
   ]
  },
  {
   "cell_type": "code",
   "execution_count": 68,
   "metadata": {},
   "outputs": [
    {
     "name": "stdout",
     "output_type": "stream",
     "text": [
      "[1, 4, 9, 16, 25]\n"
     ]
    }
   ],
   "source": [
    "# Add squares of list elements to other list\n",
    "l = [1, 2, 3, 4, 5]\n",
    "print([i*i for i in l])"
   ]
  },
  {
   "cell_type": "code",
   "execution_count": 74,
   "metadata": {},
   "outputs": [
    {
     "name": "stdout",
     "output_type": "stream",
     "text": [
      "[5, 10, 15, 20, 25, 30, 35, 40, 45, 50]\n"
     ]
    }
   ],
   "source": [
    "# Print num divisible by 5 from 1 to 50\n",
    "print([i for i in range(1, 51) if i%5==0])"
   ]
  },
  {
   "cell_type": "code",
   "execution_count": 76,
   "metadata": {},
   "outputs": [
    {
     "name": "stdout",
     "output_type": "stream",
     "text": [
      "['python', 'php', 'perl']\n"
     ]
    }
   ],
   "source": [
    "# Find language which starts with letter p\n",
    "lang = ['java', 'python', 'php', 'css', 'javascript', 'perl']\n",
    "print([i for i in lang if i.startswith('p')])"
   ]
  },
  {
   "cell_type": "code",
   "execution_count": 80,
   "metadata": {},
   "outputs": [
    {
     "name": "stdout",
     "output_type": "stream",
     "text": [
      "['apple']\n"
     ]
    }
   ],
   "source": [
    "# Nested if with List Comprehension - \n",
    "# Add fruits to new list from my_fruits list if it is present in basket and starts with 'a'\n",
    "\n",
    "basket = ['apple', 'guava', 'cherry', 'banana']\n",
    "my_fruits = ['apple', 'kiwi', 'grapes', 'banana']\n",
    "new_list = [i for i in my_fruits if i in basket if i.startswith('a')]\n",
    "print(new_list)"
   ]
  },
  {
   "cell_type": "code",
   "execution_count": 82,
   "metadata": {},
   "outputs": [
    {
     "name": "stdout",
     "output_type": "stream",
     "text": [
      "[[1, 2, 3, 4], [2, 4, 6, 8], [3, 6, 9, 12], [4, 8, 12, 16]]\n"
     ]
    }
   ],
   "source": [
    "# Print a (3, 3) matrix using List Comprehension -> Nested List Comprehension\n",
    "\n",
    "print([[i*j for i in range(1, 5)] for j in range(1, 5)])"
   ]
  },
  {
   "cell_type": "markdown",
   "metadata": {},
   "source": [
    "## zip function"
   ]
  },
  {
   "cell_type": "code",
   "execution_count": 85,
   "metadata": {},
   "outputs": [
    {
     "data": {
      "text/plain": [
       "[3, 5, 7, 9]"
      ]
     },
     "execution_count": 85,
     "metadata": {},
     "output_type": "execute_result"
    }
   ],
   "source": [
    "l1 = [1,2,3,4]\n",
    "l2 = [2,3,4,5]\n",
    "# list(zip(l1,l2))\n",
    "\n",
    "[i+j for i,j in zip(l1,l2)]"
   ]
  },
  {
   "cell_type": "code",
   "execution_count": null,
   "metadata": {},
   "outputs": [],
   "source": []
  }
 ],
 "metadata": {
  "kernelspec": {
   "display_name": "base",
   "language": "python",
   "name": "python3"
  },
  "language_info": {
   "codemirror_mode": {
    "name": "ipython",
    "version": 3
   },
   "file_extension": ".py",
   "mimetype": "text/x-python",
   "name": "python",
   "nbconvert_exporter": "python",
   "pygments_lexer": "ipython3",
   "version": "3.11.5"
  }
 },
 "nbformat": 4,
 "nbformat_minor": 2
}
